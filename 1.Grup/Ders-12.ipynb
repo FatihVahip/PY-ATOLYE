{
  "nbformat": 4,
  "nbformat_minor": 0,
  "metadata": {
    "colab": {
      "name": "Untitled0.ipynb",
      "provenance": []
    },
    "kernelspec": {
      "name": "python3",
      "display_name": "Python 3"
    },
    "language_info": {
      "name": "python"
    }
  },
  "cells": [
    {
      "cell_type": "code",
      "metadata": {
        "id": "CHLrGqvXtQMc"
      },
      "source": [
        "#for döngüleri hatırlatma"
      ],
      "execution_count": null,
      "outputs": []
    },
    {
      "cell_type": "code",
      "metadata": {
        "colab": {
          "base_uri": "https://localhost:8080/"
        },
        "id": "5mSckOogtVo7",
        "outputId": "6c9df6a2-7a57-4af6-d08b-76df963cdef3"
      },
      "source": [
        "liste = [1,2,3,4,5,6,7,8,9]\n",
        "for eleman in liste:\n",
        "  print(\"Argem\", eleman)"
      ],
      "execution_count": 1,
      "outputs": [
        {
          "output_type": "stream",
          "text": [
            "Argem 1\n",
            "Argem 2\n",
            "Argem 3\n",
            "Argem 4\n",
            "Argem 5\n",
            "Argem 6\n",
            "Argem 7\n",
            "Argem 8\n",
            "Argem 9\n"
          ],
          "name": "stdout"
        }
      ]
    },
    {
      "cell_type": "code",
      "metadata": {
        "colab": {
          "base_uri": "https://localhost:8080/"
        },
        "id": "2z9PEij4tu7Q",
        "outputId": "e97c1f92-2aa7-473c-f5f4-b7ef26cbdfe6"
      },
      "source": [
        "toplam =0\n",
        "for eleman in range(1,11):\n",
        "  toplam +=eleman\n",
        "print(\"1,den 10 kadar sayıların toplamı\", toplam)"
      ],
      "execution_count": 3,
      "outputs": [
        {
          "output_type": "stream",
          "text": [
            "1,den 10 kadar sayıların toplamı 55\n"
          ],
          "name": "stdout"
        }
      ]
    },
    {
      "cell_type": "code",
      "metadata": {
        "colab": {
          "base_uri": "https://localhost:8080/"
        },
        "id": "8M5k6j7tt__h",
        "outputId": "32c297b2-8d26-4e63-9aca-47695c237a7c"
      },
      "source": [
        "#kullanıcıdan son sayıyı alıp toplama yapan pyton programı(1 den n e kadar ardışık sayıların toplamı)\n",
        "toplam = 0\n",
        "n = int(input(\"Son değeri gir\"))\n",
        "for eleman in range(1,n+1):\n",
        "  toplam +=eleman\n",
        "print(\"1 den\", n, \"e\", \"kadar ardışık sayıların toplamı: \", toplam, \"dır.\")\n"
      ],
      "execution_count": 11,
      "outputs": [
        {
          "output_type": "stream",
          "text": [
            "Son değeri gir1000\n",
            "1 den 1000 e kadar ardışık sayıların toplamı:  500500 dır.\n"
          ],
          "name": "stdout"
        }
      ]
    },
    {
      "cell_type": "code",
      "metadata": {
        "colab": {
          "base_uri": "https://localhost:8080/"
        },
        "id": "siaxPbtcvG0m",
        "outputId": "7c5f88d7-b6e8-4745-c233-1527fd60960a"
      },
      "source": [
        "#kullanıcıdan son sayıyı alıp toplama yapan pyton programı(1 den n e kadar aralıklı  sayıların toplamı)\n",
        "toplam = 0\n",
        "aralik = int(input(\"Aralık giriniz\"))\n",
        "n = int(input(\"Son değeri gir\"))\n",
        "for eleman in range(0,n+1 ,aralik):\n",
        "  toplam +=eleman\n",
        "  print(\"1 den\", n, \"e\", aralik, \"li sayıların toplamı: \", toplam, \"dır.\")"
      ],
      "execution_count": 15,
      "outputs": [
        {
          "output_type": "stream",
          "text": [
            "Aralık giriniz2\n",
            "Son değeri gir10\n",
            "1 den 10 e 2 li sayıların toplamı:  0 dır.\n",
            "1 den 10 e 2 li sayıların toplamı:  2 dır.\n",
            "1 den 10 e 2 li sayıların toplamı:  6 dır.\n",
            "1 den 10 e 2 li sayıların toplamı:  12 dır.\n",
            "1 den 10 e 2 li sayıların toplamı:  20 dır.\n",
            "1 den 10 e 2 li sayıların toplamı:  30 dır.\n"
          ],
          "name": "stdout"
        }
      ]
    },
    {
      "cell_type": "code",
      "metadata": {
        "id": "Z4O_FhKlv69T"
      },
      "source": [
        "#while döngüleri"
      ],
      "execution_count": null,
      "outputs": []
    },
    {
      "cell_type": "code",
      "metadata": {
        "colab": {
          "base_uri": "https://localhost:8080/"
        },
        "id": "gBpawwrbwA50",
        "outputId": "5f26848e-dbad-4c5b-e675-7745e014e6b6"
      },
      "source": [
        "i =0\n",
        "while i<10:\n",
        "  i+=1\n",
        "  print(\"i'nin değeri:\", i)"
      ],
      "execution_count": 16,
      "outputs": [
        {
          "output_type": "stream",
          "text": [
            "i'nin değeri: 1\n",
            "i'nin değeri: 2\n",
            "i'nin değeri: 3\n",
            "i'nin değeri: 4\n",
            "i'nin değeri: 5\n",
            "i'nin değeri: 6\n",
            "i'nin değeri: 7\n",
            "i'nin değeri: 8\n",
            "i'nin değeri: 9\n",
            "i'nin değeri: 10\n"
          ],
          "name": "stdout"
        }
      ]
    },
    {
      "cell_type": "code",
      "metadata": {
        "id": "fTaCfPhUxGhq"
      },
      "source": [
        "#lütfen denemeyin(sonsuz döngü!)\n",
        "\n",
        "i=1\n",
        "while i<20:\n",
        "  print(i)"
      ],
      "execution_count": null,
      "outputs": []
    },
    {
      "cell_type": "code",
      "metadata": {
        "id": "kmCaMyR2xJRh"
      },
      "source": [
        "#break ve continue"
      ],
      "execution_count": null,
      "outputs": []
    },
    {
      "cell_type": "code",
      "metadata": {
        "colab": {
          "base_uri": "https://localhost:8080/"
        },
        "id": "rdq4laJ-xN6P",
        "outputId": "ba2b926d-c3c2-403d-d9e0-e6678d3c67cb"
      },
      "source": [
        "i=1\n",
        "while i<20:\n",
        "  print(i)\n",
        "  i+=1\n",
        "  if i ==11:\n",
        "    break\n",
        "  \n"
      ],
      "execution_count": 22,
      "outputs": [
        {
          "output_type": "stream",
          "text": [
            "1\n",
            "2\n",
            "3\n",
            "4\n",
            "5\n",
            "6\n",
            "7\n",
            "8\n",
            "9\n",
            "10\n"
          ],
          "name": "stdout"
        }
      ]
    },
    {
      "cell_type": "code",
      "metadata": {
        "colab": {
          "base_uri": "https://localhost:8080/"
        },
        "id": "2PQwQ2v-xvVo",
        "outputId": "d034808f-2555-408c-9cf0-79a5cc140902"
      },
      "source": [
        "i=1\n",
        "sinir = int(input(\"Lütfen ilk kaç günü bulmak istiyorsanız giriniz\"))\n",
        "while i<32:\n",
        "  print(i)\n",
        "  i+=1\n",
        "  if i ==sinir+1:\n",
        "    break"
      ],
      "execution_count": 24,
      "outputs": [
        {
          "output_type": "stream",
          "text": [
            "Lütfen ilk kaç günü bulmak istiyorsanız giriniz10\n",
            "1\n",
            "2\n",
            "3\n",
            "4\n",
            "5\n",
            "6\n",
            "7\n",
            "8\n",
            "9\n",
            "10\n"
          ],
          "name": "stdout"
        }
      ]
    },
    {
      "cell_type": "code",
      "metadata": {
        "id": "Cnr30AAeyweo"
      },
      "source": [
        "#continue"
      ],
      "execution_count": null,
      "outputs": []
    },
    {
      "cell_type": "code",
      "metadata": {
        "colab": {
          "base_uri": "https://localhost:8080/"
        },
        "id": "BjjS_7uyzR10",
        "outputId": "fa6268d7-551f-4e76-c14a-4ae983fc7da7"
      },
      "source": [
        "i =0\n",
        "while i<10:\n",
        "  if i==2:\n",
        "    i+=1\n",
        "    continue\n",
        "  print(\"i:\", i)\n",
        "  i+=1"
      ],
      "execution_count": 31,
      "outputs": [
        {
          "output_type": "stream",
          "text": [
            "i: 0\n",
            "i: 1\n",
            "i: 3\n",
            "i: 4\n",
            "i: 5\n",
            "i: 6\n",
            "i: 7\n",
            "i: 8\n",
            "i: 9\n"
          ],
          "name": "stdout"
        }
      ]
    },
    {
      "cell_type": "code",
      "metadata": {
        "colab": {
          "base_uri": "https://localhost:8080/"
        },
        "id": "Tn-A-BW6zsih",
        "outputId": "c69532ed-4192-43e2-c514-eee28266c246"
      },
      "source": [
        "#while ile kullanıcı girişi programı********\n",
        "s_kullanici_adi =\"kedi\"\n",
        "s_sifre = \"1234\"\n",
        "\n",
        "giris_hakki=3\n",
        "\n",
        "while True: #kullanıcının giriş hakkın bittiğinde program sonlanır\n",
        "    kullanici_adi = input(\"Kullanıcı adını gir(giriş hakkın 3 tanedir): \")\n",
        "    sifre = input(\"Şifreni gir: \")\n",
        "    if s_kullanici_adi !=kullanici_adi and s_sifre ==sifre:\n",
        "      print(\"Kullanıcı adın hatalı!\")\n",
        "      giris_hakki -=1\n",
        "      print(\"Giriş hakkın:\", giris_hakki)\n",
        "    elif s_kullanici_adi ==kullanici_adi and s_sifre !=sifre:\n",
        "      print(\"Şifren  hatalı!\")\n",
        "      giris_hakki -=1\n",
        "      print(\"Giriş hakkın:\", giris_hakki)\n",
        "    elif s_kullanici_adi !=kullanici_adi and s_sifre !=sifre:\n",
        "      print(\"Kullanıcı adın ve Şifren  hatalı!\")\n",
        "      giris_hakki -=1\n",
        "      print(\"Giriş hakkın:\", giris_hakki)\n",
        "    else:\n",
        "      print(\"Başarılı giriş yaptın\")\n",
        "      break\n",
        "    if giris_hakki==0:\n",
        "      print(\"Giriş hakkınız bitti...\")\n",
        "      break\n"
      ],
      "execution_count": 39,
      "outputs": [
        {
          "output_type": "stream",
          "text": [
            "Kullanıcı adını gir(giriş hakkın 3 tanedir): kedi\n",
            "Şifreni gir: 1234\n",
            "başarılı giriş yaptın\n"
          ],
          "name": "stdout"
        }
      ]
    },
    {
      "cell_type": "code",
      "metadata": {
        "id": "tKQr2lm73bWd"
      },
      "source": [
        "#5!=5.4.3.2.1, 6!=6.5.4.3.2.1"
      ],
      "execution_count": null,
      "outputs": []
    },
    {
      "cell_type": "code",
      "metadata": {
        "id": "TfdS6iyg30UJ"
      },
      "source": [
        "#faktöriyel hesaplayan program - çıkış için q ya basınız"
      ],
      "execution_count": null,
      "outputs": []
    },
    {
      "cell_type": "code",
      "metadata": {
        "colab": {
          "base_uri": "https://localhost:8080/"
        },
        "id": "PwFxZ2u4603m",
        "outputId": "6a5d91b8-bc26-4e22-a256-67438fe9d429"
      },
      "source": [
        "while True:\n",
        "  sayi = input(\"Sayıyı giriniz:\")\n",
        "  if sayi == \"q\" or sayi == \"Q\":\n",
        "    print(\"Program sonlanıyor\")\n",
        "    break\n",
        "\n",
        "  sayi = int(sayi)\n",
        "  faktoriyel = 1\n",
        "  for i in range(2, sayi+1):\n",
        "    faktoriyel *=i\n",
        "print(\"i'nin değeri: \", i, \"Girdiğiniz sayı: \", sayi, \"Faktoriyeli:\" ,faktoriyel)\n"
      ],
      "execution_count": 3,
      "outputs": [
        {
          "output_type": "stream",
          "text": [
            "Sayıyı giriniz:3\n",
            "Sayıyı giriniz:q\n",
            "Program sonlanıyor\n",
            "i'nin değeri:  3 Girdiğiniz sayı:  q Faktoriyeli: 6\n"
          ],
          "name": "stdout"
        }
      ]
    }
  ]
}