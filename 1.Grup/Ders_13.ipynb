{
  "nbformat": 4,
  "nbformat_minor": 0,
  "metadata": {
    "colab": {
      "name": "Ders-13.ipynb",
      "provenance": []
    },
    "kernelspec": {
      "name": "python3",
      "display_name": "Python 3"
    },
    "language_info": {
      "name": "python"
    }
  },
  "cells": [
    {
      "cell_type": "code",
      "metadata": {
        "id": "l6bNKZ6FxGsX"
      },
      "source": [
        "#Fonksiyonlar---> Yaptığımız yazılımlarda tekrar eden kodları yeniden defalarca yazmamak için onları birer fonksiyona dönüştürürüz...\n"
      ],
      "execution_count": null,
      "outputs": []
    },
    {
      "cell_type": "code",
      "metadata": {
        "id": "KsV-Ldy5xVOB"
      },
      "source": [
        "#Metodlar"
      ],
      "execution_count": null,
      "outputs": []
    },
    {
      "cell_type": "code",
      "metadata": {
        "colab": {
          "base_uri": "https://localhost:8080/"
        },
        "id": "Gi5ffcJSxXrD",
        "outputId": "f54bcb03-a2f2-4c67-c862-ed4ec127684d"
      },
      "source": [
        "liste = [1,2,3,4,\"kedi\", \"elma\"]\n",
        "print(liste)"
      ],
      "execution_count": 3,
      "outputs": [
        {
          "output_type": "stream",
          "text": [
            "[1, 2, 3, 4, 'kedi', 'elma']\n"
          ],
          "name": "stdout"
        }
      ]
    },
    {
      "cell_type": "code",
      "metadata": {
        "colab": {
          "base_uri": "https://localhost:8080/"
        },
        "id": "i73EuSDZxco7",
        "outputId": "5e208b09-da96-4789-8dcb-9665387e31a7"
      },
      "source": [
        "type(liste)"
      ],
      "execution_count": 4,
      "outputs": [
        {
          "output_type": "execute_result",
          "data": {
            "text/plain": [
              "list"
            ]
          },
          "metadata": {
            "tags": []
          },
          "execution_count": 4
        }
      ]
    },
    {
      "cell_type": "code",
      "metadata": {
        "id": "oNqhR2T4xe7C"
      },
      "source": [
        "liste.append(\"Esma\")"
      ],
      "execution_count": 7,
      "outputs": []
    },
    {
      "cell_type": "code",
      "metadata": {
        "colab": {
          "base_uri": "https://localhost:8080/"
        },
        "id": "iuUEOD8Axkh5",
        "outputId": "69e51e61-1403-4d50-e05b-e133954245bc"
      },
      "source": [
        "liste"
      ],
      "execution_count": 8,
      "outputs": [
        {
          "output_type": "execute_result",
          "data": {
            "text/plain": [
              "[1, 2, 3, 4, 'kedi', 'elma', 'Nisa', 'Esma']"
            ]
          },
          "metadata": {
            "tags": []
          },
          "execution_count": 8
        }
      ]
    },
    {
      "cell_type": "code",
      "metadata": {
        "colab": {
          "base_uri": "https://localhost:8080/"
        },
        "id": "HtfHUPPMxz0F",
        "outputId": "56627586-e6f2-4ac4-ec15-34cb393256d8"
      },
      "source": [
        "print(len(liste))"
      ],
      "execution_count": 10,
      "outputs": [
        {
          "output_type": "stream",
          "text": [
            "8\n"
          ],
          "name": "stdout"
        }
      ]
    },
    {
      "cell_type": "code",
      "metadata": {
        "colab": {
          "base_uri": "https://localhost:8080/"
        },
        "id": "2k202PcJx9Q_",
        "outputId": "65563b61-a527-4f88-e21b-250de19b05c4"
      },
      "source": [
        "help(liste)"
      ],
      "execution_count": 11,
      "outputs": [
        {
          "output_type": "stream",
          "text": [
            "Help on list object:\n",
            "\n",
            "class list(object)\n",
            " |  list(iterable=(), /)\n",
            " |  \n",
            " |  Built-in mutable sequence.\n",
            " |  \n",
            " |  If no argument is given, the constructor creates a new empty list.\n",
            " |  The argument must be an iterable if specified.\n",
            " |  \n",
            " |  Methods defined here:\n",
            " |  \n",
            " |  __add__(self, value, /)\n",
            " |      Return self+value.\n",
            " |  \n",
            " |  __contains__(self, key, /)\n",
            " |      Return key in self.\n",
            " |  \n",
            " |  __delitem__(self, key, /)\n",
            " |      Delete self[key].\n",
            " |  \n",
            " |  __eq__(self, value, /)\n",
            " |      Return self==value.\n",
            " |  \n",
            " |  __ge__(self, value, /)\n",
            " |      Return self>=value.\n",
            " |  \n",
            " |  __getattribute__(self, name, /)\n",
            " |      Return getattr(self, name).\n",
            " |  \n",
            " |  __getitem__(...)\n",
            " |      x.__getitem__(y) <==> x[y]\n",
            " |  \n",
            " |  __gt__(self, value, /)\n",
            " |      Return self>value.\n",
            " |  \n",
            " |  __iadd__(self, value, /)\n",
            " |      Implement self+=value.\n",
            " |  \n",
            " |  __imul__(self, value, /)\n",
            " |      Implement self*=value.\n",
            " |  \n",
            " |  __init__(self, /, *args, **kwargs)\n",
            " |      Initialize self.  See help(type(self)) for accurate signature.\n",
            " |  \n",
            " |  __iter__(self, /)\n",
            " |      Implement iter(self).\n",
            " |  \n",
            " |  __le__(self, value, /)\n",
            " |      Return self<=value.\n",
            " |  \n",
            " |  __len__(self, /)\n",
            " |      Return len(self).\n",
            " |  \n",
            " |  __lt__(self, value, /)\n",
            " |      Return self<value.\n",
            " |  \n",
            " |  __mul__(self, value, /)\n",
            " |      Return self*value.\n",
            " |  \n",
            " |  __ne__(self, value, /)\n",
            " |      Return self!=value.\n",
            " |  \n",
            " |  __repr__(self, /)\n",
            " |      Return repr(self).\n",
            " |  \n",
            " |  __reversed__(self, /)\n",
            " |      Return a reverse iterator over the list.\n",
            " |  \n",
            " |  __rmul__(self, value, /)\n",
            " |      Return value*self.\n",
            " |  \n",
            " |  __setitem__(self, key, value, /)\n",
            " |      Set self[key] to value.\n",
            " |  \n",
            " |  __sizeof__(self, /)\n",
            " |      Return the size of the list in memory, in bytes.\n",
            " |  \n",
            " |  append(self, object, /)\n",
            " |      Append object to the end of the list.\n",
            " |  \n",
            " |  clear(self, /)\n",
            " |      Remove all items from list.\n",
            " |  \n",
            " |  copy(self, /)\n",
            " |      Return a shallow copy of the list.\n",
            " |  \n",
            " |  count(self, value, /)\n",
            " |      Return number of occurrences of value.\n",
            " |  \n",
            " |  extend(self, iterable, /)\n",
            " |      Extend list by appending elements from the iterable.\n",
            " |  \n",
            " |  index(self, value, start=0, stop=9223372036854775807, /)\n",
            " |      Return first index of value.\n",
            " |      \n",
            " |      Raises ValueError if the value is not present.\n",
            " |  \n",
            " |  insert(self, index, object, /)\n",
            " |      Insert object before index.\n",
            " |  \n",
            " |  pop(self, index=-1, /)\n",
            " |      Remove and return item at index (default last).\n",
            " |      \n",
            " |      Raises IndexError if list is empty or index is out of range.\n",
            " |  \n",
            " |  remove(self, value, /)\n",
            " |      Remove first occurrence of value.\n",
            " |      \n",
            " |      Raises ValueError if the value is not present.\n",
            " |  \n",
            " |  reverse(self, /)\n",
            " |      Reverse *IN PLACE*.\n",
            " |  \n",
            " |  sort(self, /, *, key=None, reverse=False)\n",
            " |      Stable sort *IN PLACE*.\n",
            " |  \n",
            " |  ----------------------------------------------------------------------\n",
            " |  Static methods defined here:\n",
            " |  \n",
            " |  __new__(*args, **kwargs) from builtins.type\n",
            " |      Create and return a new object.  See help(type) for accurate signature.\n",
            " |  \n",
            " |  ----------------------------------------------------------------------\n",
            " |  Data and other attributes defined here:\n",
            " |  \n",
            " |  __hash__ = None\n",
            "\n"
          ],
          "name": "stdout"
        }
      ]
    },
    {
      "cell_type": "code",
      "metadata": {
        "id": "m1UvVPZ7yLxT"
      },
      "source": [
        "liste.remove(1)"
      ],
      "execution_count": 15,
      "outputs": []
    },
    {
      "cell_type": "code",
      "metadata": {
        "colab": {
          "base_uri": "https://localhost:8080/"
        },
        "id": "R7V_TLUkycBd",
        "outputId": "48850f41-30ae-433b-88bb-95242c29de48"
      },
      "source": [
        "liste"
      ],
      "execution_count": 16,
      "outputs": [
        {
          "output_type": "execute_result",
          "data": {
            "text/plain": [
              "[2, 3, 4, 'elma', 'Nisa', 'Esma']"
            ]
          },
          "metadata": {
            "tags": []
          },
          "execution_count": 16
        }
      ]
    },
    {
      "cell_type": "code",
      "metadata": {
        "id": "ZhdRLno_ykbV"
      },
      "source": [
        "#FOKSİYONLAR"
      ],
      "execution_count": null,
      "outputs": []
    },
    {
      "cell_type": "code",
      "metadata": {
        "id": "2u5qyZpbzPH8"
      },
      "source": [
        "def selam():\n",
        "  print(\"Sayfaya hoşgeldin...:)\")"
      ],
      "execution_count": 19,
      "outputs": []
    },
    {
      "cell_type": "code",
      "metadata": {
        "colab": {
          "base_uri": "https://localhost:8080/"
        },
        "id": "gaUSWLHGzaFG",
        "outputId": "c641b3ef-ce41-46ff-c3c8-b2d89482854a"
      },
      "source": [
        "selam()"
      ],
      "execution_count": 20,
      "outputs": [
        {
          "output_type": "stream",
          "text": [
            "Sayfaya hoşgeldin...:)\n"
          ],
          "name": "stdout"
        }
      ]
    },
    {
      "cell_type": "code",
      "metadata": {
        "id": "rGWEd-wCzjBV"
      },
      "source": [
        "#toplama işlemi yapan fonksiyon"
      ],
      "execution_count": null,
      "outputs": []
    },
    {
      "cell_type": "code",
      "metadata": {
        "id": "mHmrY7ofzlg0"
      },
      "source": [
        "def toplama():\n",
        "  a = int(input(\"birinci sayıyı gir: \"))\n",
        "  b = int(input(\"ikinci sayıyı gir: \"))\n",
        "  print(\"girdiin sayılar {}, {}. Toplamları: {} \".format(a,b,a+b))"
      ],
      "execution_count": 22,
      "outputs": []
    },
    {
      "cell_type": "code",
      "metadata": {
        "colab": {
          "base_uri": "https://localhost:8080/"
        },
        "id": "UAkag_Dbz7Df",
        "outputId": "e73f5c7d-09d1-469e-ecba-36380b4e3a51"
      },
      "source": [
        "toplama()"
      ],
      "execution_count": 23,
      "outputs": [
        {
          "output_type": "stream",
          "text": [
            "birinci sayıyı gir: 4\n",
            "ikinci sayıyı gir: 6\n",
            "girdiin sayılar 4, 6. Toplamları: 10 \n"
          ],
          "name": "stdout"
        }
      ]
    },
    {
      "cell_type": "code",
      "metadata": {
        "colab": {
          "base_uri": "https://localhost:8080/"
        },
        "id": "prp6S2Wtz_pE",
        "outputId": "aeac76fb-ef0a-4f7f-b6a7-7edcb8b9403a"
      },
      "source": [
        "selam()"
      ],
      "execution_count": 24,
      "outputs": [
        {
          "output_type": "stream",
          "text": [
            "Sayfaya hoşgeldin...:)\n"
          ],
          "name": "stdout"
        }
      ]
    },
    {
      "cell_type": "code",
      "metadata": {
        "colab": {
          "base_uri": "https://localhost:8080/"
        },
        "id": "Ydo_5OAe0CSd",
        "outputId": "12555c43-ae3e-4c2b-9d05-c35e81d43476"
      },
      "source": [
        "toplama()"
      ],
      "execution_count": 25,
      "outputs": [
        {
          "output_type": "stream",
          "text": [
            "birinci sayıyı gir: 6\n",
            "ikinci sayıyı gir: 8\n",
            "girdiin sayılar 6, 8. Toplamları: 14 \n"
          ],
          "name": "stdout"
        }
      ]
    },
    {
      "cell_type": "code",
      "metadata": {
        "colab": {
          "base_uri": "https://localhost:8080/"
        },
        "id": "9Eb8UUsN0NoJ",
        "outputId": "6184a307-a89a-4371-9d29-7b136472cb83"
      },
      "source": [
        "type(selam)"
      ],
      "execution_count": 26,
      "outputs": [
        {
          "output_type": "execute_result",
          "data": {
            "text/plain": [
              "function"
            ]
          },
          "metadata": {
            "tags": []
          },
          "execution_count": 26
        }
      ]
    },
    {
      "cell_type": "code",
      "metadata": {
        "colab": {
          "base_uri": "https://localhost:8080/"
        },
        "id": "6FxN9Aax0Vo9",
        "outputId": "e383f40b-1494-4740-a608-127271a23d5f"
      },
      "source": [
        "help(selam)"
      ],
      "execution_count": 28,
      "outputs": [
        {
          "output_type": "stream",
          "text": [
            "Help on function selam in module __main__:\n",
            "\n",
            "selam()\n",
            "\n"
          ],
          "name": "stdout"
        }
      ]
    },
    {
      "cell_type": "code",
      "metadata": {
        "colab": {
          "base_uri": "https://localhost:8080/"
        },
        "id": "3jTk30ub0fs2",
        "outputId": "0f937137-b798-4177-b02f-f1946e4a3e9d"
      },
      "source": [
        "print(dir(selam))"
      ],
      "execution_count": 29,
      "outputs": [
        {
          "output_type": "stream",
          "text": [
            "['__annotations__', '__call__', '__class__', '__closure__', '__code__', '__defaults__', '__delattr__', '__dict__', '__dir__', '__doc__', '__eq__', '__format__', '__ge__', '__get__', '__getattribute__', '__globals__', '__gt__', '__hash__', '__init__', '__init_subclass__', '__kwdefaults__', '__le__', '__lt__', '__module__', '__name__', '__ne__', '__new__', '__qualname__', '__reduce__', '__reduce_ex__', '__repr__', '__setattr__', '__sizeof__', '__str__', '__subclasshook__']\n"
          ],
          "name": "stdout"
        }
      ]
    },
    {
      "cell_type": "code",
      "metadata": {
        "id": "1cd7JUjm0z6w"
      },
      "source": [
        "#parametre alan fonksiyonlar"
      ],
      "execution_count": null,
      "outputs": []
    },
    {
      "cell_type": "code",
      "metadata": {
        "id": "afafLYPQ0227"
      },
      "source": [
        "def carpma(a,b,c):\n",
        "  print(\"parametre ile gönderdiğin sayıların çarpımı: {} \".format(a*b*c))"
      ],
      "execution_count": 32,
      "outputs": []
    },
    {
      "cell_type": "code",
      "metadata": {
        "colab": {
          "base_uri": "https://localhost:8080/"
        },
        "id": "6F3-QJiT1M9H",
        "outputId": "a74d54a9-e02e-4112-f311-131dd97c67b3"
      },
      "source": [
        "carpma(2,3,4)"
      ],
      "execution_count": 33,
      "outputs": [
        {
          "output_type": "stream",
          "text": [
            "parametre ile gönderdiğin sayıların çarpımı: 24 \n"
          ],
          "name": "stdout"
        }
      ]
    },
    {
      "cell_type": "code",
      "metadata": {
        "colab": {
          "base_uri": "https://localhost:8080/"
        },
        "id": "3cQdwieX1hIO",
        "outputId": "e2d4d5f0-5d1c-4ccd-e586-5127d9488cc3"
      },
      "source": [
        "toplama()"
      ],
      "execution_count": 34,
      "outputs": [
        {
          "output_type": "stream",
          "text": [
            "birinci sayıyı gir: 6\n",
            "ikinci sayıyı gir: 9\n",
            "girdiin sayılar 6, 9. Toplamları: 15 \n"
          ],
          "name": "stdout"
        }
      ]
    },
    {
      "cell_type": "code",
      "metadata": {
        "id": "DdIwbA3Q1oy3"
      },
      "source": [
        "#okul kayıt sistemi"
      ],
      "execution_count": null,
      "outputs": []
    },
    {
      "cell_type": "code",
      "metadata": {
        "id": "j6NAt9Zv118p"
      },
      "source": [
        "ogrenci_listesi = []\n",
        "def kayit():\n",
        "  ad_soyad = input(\"Adınız soyadınız: \")\n",
        "  ogrenci_listesi.append(ad_soyad)\n",
        "  print(\"Merhaba {}. okulumuza hoş geldin\".format(ad_soyad))\n",
        "  print(\"Kayıt işlemi başarılı...:)\")"
      ],
      "execution_count": 35,
      "outputs": []
    },
    {
      "cell_type": "code",
      "metadata": {
        "colab": {
          "base_uri": "https://localhost:8080/"
        },
        "id": "9clXVQav2WcQ",
        "outputId": "cba4a765-c7c3-4c4e-f4d2-4d83148b0c17"
      },
      "source": [
        "kayit()"
      ],
      "execution_count": 36,
      "outputs": [
        {
          "output_type": "stream",
          "text": [
            "Adınız soyadınız: Egemen Cebeci\n",
            "Merhaba Egemen Cebeci. okulumuza hoş geldin\n",
            "Kayıt işlemi başarılı...:)\n"
          ],
          "name": "stdout"
        }
      ]
    },
    {
      "cell_type": "code",
      "metadata": {
        "colab": {
          "base_uri": "https://localhost:8080/"
        },
        "id": "wWbUKBr02jMs",
        "outputId": "eb7445e7-0385-477a-d93d-d47ee87bf89e"
      },
      "source": [
        "kayit()"
      ],
      "execution_count": 37,
      "outputs": [
        {
          "output_type": "stream",
          "text": [
            "Adınız soyadınız: Feyzanur Güdücü\n",
            "Merhaba Feyzanur Güdücü. okulumuza hoş geldin\n",
            "Kayıt işlemi başarılı...:)\n"
          ],
          "name": "stdout"
        }
      ]
    },
    {
      "cell_type": "code",
      "metadata": {
        "colab": {
          "base_uri": "https://localhost:8080/"
        },
        "id": "K_jpWuBj2kEy",
        "outputId": "07ef6051-3e5c-45c7-92d2-0a6f087ad0f2"
      },
      "source": [
        "kayit()"
      ],
      "execution_count": 38,
      "outputs": [
        {
          "output_type": "stream",
          "text": [
            "Adınız soyadınız: Batu Kurtuluş\n",
            "Merhaba Batu Kurtuluş. okulumuza hoş geldin\n",
            "Kayıt işlemi başarılı...:)\n"
          ],
          "name": "stdout"
        }
      ]
    },
    {
      "cell_type": "code",
      "metadata": {
        "colab": {
          "base_uri": "https://localhost:8080/"
        },
        "id": "FT8X3Dlb2seR",
        "outputId": "48982b98-6cf8-46a9-f764-398dbd6750da"
      },
      "source": [
        "kayit()"
      ],
      "execution_count": 39,
      "outputs": [
        {
          "output_type": "stream",
          "text": [
            "Adınız soyadınız: Yunus Emre\n",
            "Merhaba Yunus Emre. okulumuza hoş geldin\n",
            "Kayıt işlemi başarılı...:)\n"
          ],
          "name": "stdout"
        }
      ]
    },
    {
      "cell_type": "code",
      "metadata": {
        "id": "DCbtooWR25f0"
      },
      "source": [
        "def kayitli_ogrenciler():\n",
        "  print(\"okulumuza kayıt yaptıran öğrenciler:\" ,ogrenci_listesi)\n",
        "  print(\"{} kişinin kaydı yapıldı\".format(len(ogrenci_listesi)))"
      ],
      "execution_count": 45,
      "outputs": []
    },
    {
      "cell_type": "code",
      "metadata": {
        "colab": {
          "base_uri": "https://localhost:8080/"
        },
        "id": "5ilT00LG3bS9",
        "outputId": "6f90d12f-18dc-4900-cc81-de8e9c652cc4"
      },
      "source": [
        "kayit()"
      ],
      "execution_count": 42,
      "outputs": [
        {
          "output_type": "stream",
          "text": [
            "Adınız soyadınız: Nisa Ilgın\n",
            "Merhaba Nisa Ilgın. okulumuza hoş geldin\n",
            "Kayıt işlemi başarılı...:)\n"
          ],
          "name": "stdout"
        }
      ]
    },
    {
      "cell_type": "code",
      "metadata": {
        "colab": {
          "base_uri": "https://localhost:8080/"
        },
        "id": "kO_ndxxQ3ci1",
        "outputId": "4581fe1d-7120-4a4e-a1ed-a2ee96328bd5"
      },
      "source": [
        "kayit()"
      ],
      "execution_count": 43,
      "outputs": [
        {
          "output_type": "stream",
          "text": [
            "Adınız soyadınız: Taner Tanık\n",
            "Merhaba Taner Tanık. okulumuza hoş geldin\n",
            "Kayıt işlemi başarılı...:)\n"
          ],
          "name": "stdout"
        }
      ]
    },
    {
      "cell_type": "code",
      "metadata": {
        "colab": {
          "base_uri": "https://localhost:8080/"
        },
        "id": "YCjgkqyx3gzn",
        "outputId": "d28bfa9e-68fe-4732-b6f5-f75837e087ce"
      },
      "source": [
        "kayitli_ogrenciler()"
      ],
      "execution_count": 46,
      "outputs": [
        {
          "output_type": "stream",
          "text": [
            "okulumuza kayıt yaptıran öğrenciler: ['Egemen Cebeci', 'Feyzanur Güdücü', 'Batu Kurtuluş', 'Yunus Emre', 'Nisa Ilgın', 'Taner Tanık']\n",
            "6 kişinin kaydı yapıldı\n"
          ],
          "name": "stdout"
        }
      ]
    },
    {
      "cell_type": "code",
      "metadata": {
        "colab": {
          "base_uri": "https://localhost:8080/"
        },
        "id": "CAClUqDm3xP7",
        "outputId": "ef6846e3-e424-4688-828d-e3b6987934b4"
      },
      "source": [
        "kayit()"
      ],
      "execution_count": 47,
      "outputs": [
        {
          "output_type": "stream",
          "text": [
            "Adınız soyadınız: Meryem Dem\n",
            "Merhaba Meryem Dem. okulumuza hoş geldin\n",
            "Kayıt işlemi başarılı...:)\n"
          ],
          "name": "stdout"
        }
      ]
    },
    {
      "cell_type": "code",
      "metadata": {
        "colab": {
          "base_uri": "https://localhost:8080/"
        },
        "id": "yiVVcuj736bW",
        "outputId": "1ddb2f25-a22a-4d22-c9a5-d761e52eeb5c"
      },
      "source": [
        "selam()"
      ],
      "execution_count": 48,
      "outputs": [
        {
          "output_type": "stream",
          "text": [
            "Sayfaya hoşgeldin...:)\n"
          ],
          "name": "stdout"
        }
      ]
    },
    {
      "cell_type": "code",
      "metadata": {
        "id": "w2KhCHzD4QRh"
      },
      "source": [
        "#return() parametresi"
      ],
      "execution_count": null,
      "outputs": []
    },
    {
      "cell_type": "code",
      "metadata": {
        "id": "H3BL5pP-4ZvB"
      },
      "source": [
        "def iki_ile_carp(a):\n",
        "  return 2*a"
      ],
      "execution_count": 51,
      "outputs": []
    },
    {
      "cell_type": "code",
      "metadata": {
        "id": "Y2zse_4a4y9T"
      },
      "source": [
        "def iki_ile_topla(a):\n",
        "  return a+2"
      ],
      "execution_count": 53,
      "outputs": []
    },
    {
      "cell_type": "code",
      "metadata": {
        "id": "n0_LqzwO44_C"
      },
      "source": [
        "def iki_ile_bol(a):\n",
        "  return a/2"
      ],
      "execution_count": 54,
      "outputs": []
    },
    {
      "cell_type": "code",
      "metadata": {
        "colab": {
          "base_uri": "https://localhost:8080/"
        },
        "id": "yT0AasEG5AD7",
        "outputId": "ada26727-203c-48ca-aa2c-435b9b55a4c5"
      },
      "source": [
        "iki_ile_carp(iki_ile_topla(iki_ile_bol(10)))"
      ],
      "execution_count": 55,
      "outputs": [
        {
          "output_type": "execute_result",
          "data": {
            "text/plain": [
              "14.0"
            ]
          },
          "metadata": {
            "tags": []
          },
          "execution_count": 55
        }
      ]
    },
    {
      "cell_type": "code",
      "metadata": {
        "id": "cCuySlB15ibx"
      },
      "source": [
        "#kredi hesplayan fonksiyonlar"
      ],
      "execution_count": null,
      "outputs": []
    },
    {
      "cell_type": "code",
      "metadata": {
        "id": "KgoPqNFD5lE_"
      },
      "source": [
        "def kredi_miktari(a):\n",
        "  return a - 300"
      ],
      "execution_count": 63,
      "outputs": []
    },
    {
      "cell_type": "code",
      "metadata": {
        "id": "Eq3qMrJj538b"
      },
      "source": [
        "def vergi(a):\n",
        "  return a - a*(0.12)"
      ],
      "execution_count": 65,
      "outputs": []
    },
    {
      "cell_type": "code",
      "metadata": {
        "id": "PLSYdabI6FEK"
      },
      "source": [
        "def odencek_miktar(a):\n",
        "  return a"
      ],
      "execution_count": 60,
      "outputs": []
    },
    {
      "cell_type": "code",
      "metadata": {
        "colab": {
          "base_uri": "https://localhost:8080/"
        },
        "id": "pvgBpKSp6MOa",
        "outputId": "925f7a0e-d140-40e8-8c07-de2af37d7651"
      },
      "source": [
        "odencek_miktar(vergi(kredi_miktari(1000000)))"
      ],
      "execution_count": 66,
      "outputs": [
        {
          "output_type": "execute_result",
          "data": {
            "text/plain": [
              "879736.0"
            ]
          },
          "metadata": {
            "tags": []
          },
          "execution_count": 66
        }
      ]
    },
    {
      "cell_type": "code",
      "metadata": {
        "id": "5wYuG-uV7ARj"
      },
      "source": [
        "#pro hesap makinası....fonksiyonları kullanarak yapalım... +,-,*,/"
      ],
      "execution_count": null,
      "outputs": []
    },
    {
      "cell_type": "code",
      "metadata": {
        "id": "Hum4Gly68UEW"
      },
      "source": [
        "def toplama():\n",
        "  a=int(input(\"1.Sayı giriniz: \"))\n",
        "  b=int(input(\"2.Sayı giriniz: \"))\n",
        "  print(\"Girdiğin sayılar {}, {}. Toplamları: {}\".format(a,b,a+b))"
      ],
      "execution_count": 69,
      "outputs": []
    },
    {
      "cell_type": "code",
      "metadata": {
        "id": "nBzgGWJ88gNB"
      },
      "source": [
        "def cikarma():\n",
        "  a=int(input(\"1.Sayı giriniz: \"))\n",
        "  b=int(input(\"2.Sayı giriniz: \"))\n",
        "  print(\"Girdiğin sayılar {}, {}. Farkı: {}\".format(a,b,a-b))"
      ],
      "execution_count": 70,
      "outputs": []
    },
    {
      "cell_type": "code",
      "metadata": {
        "id": "nHb8iH_W8t-I"
      },
      "source": [
        "def bolme():\n",
        "  a=int(input(\"1.Sayı giriniz: \"))\n",
        "  b=int(input(\"2.Sayı giriniz: \"))\n",
        "  print(\"Girdiğin sayılar {}, {}. Bölümleri: {}\".format(a,b,a/b))"
      ],
      "execution_count": 73,
      "outputs": []
    },
    {
      "cell_type": "code",
      "metadata": {
        "id": "jDYRWx2g83Nc"
      },
      "source": [
        "def carpma():\n",
        "  a=int(input(\"1.Sayı giriniz: \"))\n",
        "  b=int(input(\"2.Sayı giriniz: \"))\n",
        "  print(\"Girdiğin sayılar {}, {}. Çarpımları: {}\".format(a,b,a*b))"
      ],
      "execution_count": 72,
      "outputs": []
    },
    {
      "cell_type": "code",
      "metadata": {
        "id": "pr7WNQm19CsY"
      },
      "source": [
        "def hesapmakinasi():\n",
        "  islem = input(\"hangi işlemi yapmak istiyorsun(toplama için 1, çıkarma için 2, bolme için 3, çarpma için 4 e basmalısın....)\")\n",
        "  if islem ==\"1\":\n",
        "    print(\"Fonksiyon çalışmaya başladı....\")\n",
        "    toplama()\n",
        "  elif islem ==\"2\":\n",
        "    print(\"Fonksiyon çalışmaya başladı....\")\n",
        "    cikarma()\n",
        "  elif islem ==\"3\":\n",
        "    print(\"Fonksiyon çalışmaya başladı....\")\n",
        "    bolme()\n",
        "  elif islem ==\"4\":\n",
        "    print(\"Fonksiyon çalışmaya başladı....\")\n",
        "    carpma()\n",
        "  else:\n",
        "    print(\"Lütfen geçerli bir işlem seç..:)\")\n"
      ],
      "execution_count": 75,
      "outputs": []
    },
    {
      "cell_type": "code",
      "metadata": {
        "colab": {
          "base_uri": "https://localhost:8080/"
        },
        "id": "_4YBPUvi943F",
        "outputId": "4923b9a6-6332-43d8-c880-fcb6b4298d41"
      },
      "source": [
        "selam()"
      ],
      "execution_count": 76,
      "outputs": [
        {
          "output_type": "stream",
          "text": [
            "Sayfaya hoşgeldin...:)\n"
          ],
          "name": "stdout"
        }
      ]
    },
    {
      "cell_type": "code",
      "metadata": {
        "colab": {
          "base_uri": "https://localhost:8080/"
        },
        "id": "1keZmNJ296-A",
        "outputId": "61235198-ec37-4a57-c5b8-deb1b737d4ae"
      },
      "source": [
        "hesapmakinasi()"
      ],
      "execution_count": 77,
      "outputs": [
        {
          "output_type": "stream",
          "text": [
            "hangi işlemi yapmak istiyorsun(toplama için 1, çıkarma için 2, bolme için 3, çarpma için 4 e basmalısın....)4\n",
            "Fonksiyon çalışmaya başladı....\n",
            "1.Sayı giriniz: 5\n",
            "2.Sayı giriniz: 7\n",
            "Girdiğin sayılar 5, 7. Çarpımları: 35\n"
          ],
          "name": "stdout"
        }
      ]
    },
    {
      "cell_type": "code",
      "metadata": {
        "colab": {
          "base_uri": "https://localhost:8080/"
        },
        "id": "tgVioPRv-CQ3",
        "outputId": "34d30b87-069e-43ec-b549-de4978b4eb14"
      },
      "source": [
        "kayit()"
      ],
      "execution_count": 78,
      "outputs": [
        {
          "output_type": "stream",
          "text": [
            "Adınız soyadınız: Hatice Ölmez\n",
            "Merhaba Hatice Ölmez. okulumuza hoş geldin\n",
            "Kayıt işlemi başarılı...:)\n"
          ],
          "name": "stdout"
        }
      ]
    },
    {
      "cell_type": "code",
      "metadata": {
        "colab": {
          "base_uri": "https://localhost:8080/"
        },
        "id": "b8sciAL2-ICW",
        "outputId": "8c5d6b12-ad35-44e3-bf68-6bd6b47c5e09"
      },
      "source": [
        "kayitli_ogrenciler()"
      ],
      "execution_count": 79,
      "outputs": [
        {
          "output_type": "stream",
          "text": [
            "okulumuza kayıt yaptıran öğrenciler: ['Egemen Cebeci', 'Feyzanur Güdücü', 'Batu Kurtuluş', 'Yunus Emre', 'Nisa Ilgın', 'Taner Tanık', 'Meryem Dem', 'Hatice Ölmez']\n",
            "8 kişinin kaydı yapıldı\n"
          ],
          "name": "stdout"
        }
      ]
    },
    {
      "cell_type": "code",
      "metadata": {
        "colab": {
          "base_uri": "https://localhost:8080/"
        },
        "id": "dl4rOHDO-NBG",
        "outputId": "b758f18a-c3a9-49aa-df9f-b907bbf8efbd"
      },
      "source": [
        "hesapmakinasi()"
      ],
      "execution_count": 80,
      "outputs": [
        {
          "output_type": "stream",
          "text": [
            "hangi işlemi yapmak istiyorsun(toplama için 1, çıkarma için 2, bolme için 3, çarpma için 4 e basmalısın....)3\n",
            "Fonksiyon çalışmaya başladı....\n",
            "1.Sayı giriniz: 986\n",
            "2.Sayı giriniz: 5\n",
            "Girdiğin sayılar 986, 5. Bölümleri: 197.2\n"
          ],
          "name": "stdout"
        }
      ]
    }
  ]
}