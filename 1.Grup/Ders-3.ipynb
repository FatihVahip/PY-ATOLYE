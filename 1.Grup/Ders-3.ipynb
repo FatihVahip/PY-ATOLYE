{
 "cells": [
  {
   "cell_type": "markdown",
   "id": "acoustic-grade",
   "metadata": {},
   "source": [
    "veri tipleri\n",
    "string ve int\n",
    "string: yazılar ve text\n",
    "\"merhaba\", \"\"\"merhaba\"\"\", 'merhaba'\n",
    "int: tam sayılar\n",
    "5,7,8,\n",
    "float: ondalık sayılar\n",
    "30.56\n"
   ]
  },
  {
   "cell_type": "code",
   "execution_count": 1,
   "id": "stuffed-killer",
   "metadata": {},
   "outputs": [
    {
     "name": "stdout",
     "output_type": "stream",
     "text": [
      "veysel\n"
     ]
    }
   ],
   "source": [
    "print(\"veysel\")"
   ]
  },
  {
   "cell_type": "code",
   "execution_count": 2,
   "id": "living-tunnel",
   "metadata": {},
   "outputs": [
    {
     "name": "stdout",
     "output_type": "stream",
     "text": [
      "veysel\n"
     ]
    }
   ],
   "source": [
    "print('veysel')"
   ]
  },
  {
   "cell_type": "code",
   "execution_count": 3,
   "id": "athletic-luther",
   "metadata": {},
   "outputs": [
    {
     "name": "stdout",
     "output_type": "stream",
     "text": [
      "velsel'in bilgisayarı\n"
     ]
    }
   ],
   "source": [
    "print(\"velsel'in bilgisayarı\")"
   ]
  },
  {
   "cell_type": "markdown",
   "id": "flying-piece",
   "metadata": {},
   "source": [
    "matematiksel operatörler\n",
    "+, - *, /,  %,  //, **\n",
    "toplama, çıkarma, çarpma, bölme, mod, kalanlı bölme, üs alma\n",
    "işlem sırasına dikkat eder"
   ]
  },
  {
   "cell_type": "code",
   "execution_count": 5,
   "id": "forced-meeting",
   "metadata": {},
   "outputs": [
    {
     "data": {
      "text/plain": [
       "10"
      ]
     },
     "execution_count": 5,
     "metadata": {},
     "output_type": "execute_result"
    }
   ],
   "source": [
    "5+5"
   ]
  },
  {
   "cell_type": "code",
   "execution_count": 6,
   "id": "creative-consequence",
   "metadata": {},
   "outputs": [
    {
     "name": "stdout",
     "output_type": "stream",
     "text": [
      "10\n"
     ]
    }
   ],
   "source": [
    "print(5+5)"
   ]
  },
  {
   "cell_type": "code",
   "execution_count": 7,
   "id": "similar-object",
   "metadata": {},
   "outputs": [
    {
     "data": {
      "text/plain": [
       "625"
      ]
     },
     "execution_count": 7,
     "metadata": {},
     "output_type": "execute_result"
    }
   ],
   "source": [
    "5**4"
   ]
  },
  {
   "cell_type": "code",
   "execution_count": 8,
   "id": "antique-adaptation",
   "metadata": {},
   "outputs": [
    {
     "data": {
      "text/plain": [
       "-595"
      ]
     },
     "execution_count": 8,
     "metadata": {},
     "output_type": "execute_result"
    }
   ],
   "source": [
    "8-(9*67)"
   ]
  },
  {
   "cell_type": "markdown",
   "id": "occupied-royalty",
   "metadata": {},
   "source": [
    "print, input fonksiyonları\n",
    "print: ekrana verileri yazdırmak için kullanılır\n",
    "input: kullanıcıdan veri girmesini istediğimiz zaman kullanılır"
   ]
  },
  {
   "cell_type": "markdown",
   "id": "together-henry",
   "metadata": {},
   "source": [
    "değirşken: yazılım işlemlerimizi daha pratik yapmak için değişkenler kullanmalıyız: \n",
    "\\n yeni satır"
   ]
  },
  {
   "cell_type": "code",
   "execution_count": 21,
   "id": "young-luther",
   "metadata": {},
   "outputs": [
    {
     "name": "stdout",
     "output_type": "stream",
     "text": [
      "toplama: 208 \n",
      "carpma: 1600 \n",
      "bolme:  25.0 \n",
      "us: 2560000000000000000\n"
     ]
    }
   ],
   "source": [
    "a = 200\n",
    "b = 8\n",
    "\n",
    "toplama = a+b\n",
    "carpma = a*b\n",
    "bolme = (a/b)\n",
    "us = a**b\n",
    "\n",
    "print(\"toplama:\", toplama, \"\\ncarpma:\", carpma, \"\\nbolme: \", bolme, \"\\nus:\", us)\n"
   ]
  },
  {
   "cell_type": "code",
   "execution_count": 22,
   "id": "eastern-protocol",
   "metadata": {},
   "outputs": [
    {
     "data": {
      "text/plain": [
       "4.0"
      ]
     },
     "execution_count": 22,
     "metadata": {},
     "output_type": "execute_result"
    }
   ],
   "source": [
    "16**(0.5)"
   ]
  },
  {
   "cell_type": "code",
   "execution_count": 23,
   "id": "white-pointer",
   "metadata": {},
   "outputs": [
    {
     "data": {
      "text/plain": [
       "9.0"
      ]
     },
     "execution_count": 23,
     "metadata": {},
     "output_type": "execute_result"
    }
   ],
   "source": [
    "81**(0.5)"
   ]
  },
  {
   "cell_type": "code",
   "execution_count": 24,
   "id": "appreciated-desert",
   "metadata": {},
   "outputs": [
    {
     "data": {
      "text/plain": [
       "3.0"
      ]
     },
     "execution_count": 24,
     "metadata": {},
     "output_type": "execute_result"
    }
   ],
   "source": [
    "27**(1/3)"
   ]
  },
  {
   "cell_type": "markdown",
   "id": "interesting-collect",
   "metadata": {},
   "source": [
    "input fonksiyonu---input()"
   ]
  },
  {
   "cell_type": "code",
   "execution_count": 26,
   "id": "horizontal-stress",
   "metadata": {},
   "outputs": [
    {
     "name": "stdin",
     "output_type": "stream",
     "text": [
      "Adını gir:  Meryem\n"
     ]
    },
    {
     "name": "stdout",
     "output_type": "stream",
     "text": [
      "Merhaba Meryem Hoş geldin\n"
     ]
    }
   ],
   "source": [
    "ad = input(\"Adını gir: \")\n",
    "print(\"Merhaba\", ad, \"Hoş geldin\")"
   ]
  },
  {
   "cell_type": "markdown",
   "id": "invalid-decrease",
   "metadata": {},
   "source": [
    "örnek: dinamik toplama işlemi"
   ]
  },
  {
   "cell_type": "code",
   "execution_count": 28,
   "id": "educational-rover",
   "metadata": {},
   "outputs": [
    {
     "name": "stdin",
     "output_type": "stream",
     "text": [
      "Birinci sayıyı gir:  6787654567\n",
      "İkinci sayıyı gir:  9876545678976543\n"
     ]
    },
    {
     "name": "stdout",
     "output_type": "stream",
     "text": [
      "Girmiş olduğun 1. sayi:  6787654567\n",
      "Girmiş olduğun 2. sayı:  9876545678976543\n",
      "Toplamları:  9876552466631110\n"
     ]
    }
   ],
   "source": [
    "sayi1 = int(input(\"Birinci sayıyı gir: \"))\n",
    "sayi2 = int(input(\"İkinci sayıyı gir: \"))\n",
    "toplam = sayi1+sayi2\n",
    "\n",
    "print(\"Girmiş olduğun 1. sayi: \", sayi1)\n",
    "print(\"Girmiş olduğun 2. sayı: \", sayi2)\n",
    "print(\"Toplamları: \", toplam)"
   ]
  },
  {
   "cell_type": "markdown",
   "id": "smoking-madagascar",
   "metadata": {},
   "source": [
    "örnek: dinamik çarpma"
   ]
  },
  {
   "cell_type": "code",
   "execution_count": 29,
   "id": "stock-ceremony",
   "metadata": {},
   "outputs": [
    {
     "name": "stdin",
     "output_type": "stream",
     "text": [
      "Birinci sayıyı gir:  3\n",
      "İkinci sayıyı gir:  4\n"
     ]
    },
    {
     "name": "stdout",
     "output_type": "stream",
     "text": [
      "Girmiş olduğun 1. sayi:  3\n",
      "Girmiş olduğun 2. sayı:  4\n",
      "Çarpımları:  12\n"
     ]
    }
   ],
   "source": [
    "sayi1 = int(input(\"Birinci sayıyı gir: \"))\n",
    "sayi2 = int(input(\"İkinci sayıyı gir: \"))\n",
    "carpma = sayi1*sayi2\n",
    "\n",
    "print(\"Girmiş olduğun 1. sayi: \", sayi1)\n",
    "print(\"Girmiş olduğun 2. sayı: \", sayi2)\n",
    "print(\"Çarpımları: \", carpma)"
   ]
  },
  {
   "cell_type": "markdown",
   "id": "frequent-victim",
   "metadata": {},
   "source": [
    "örnek: dinamik bölme"
   ]
  },
  {
   "cell_type": "code",
   "execution_count": 31,
   "id": "ordinary-investing",
   "metadata": {},
   "outputs": [
    {
     "name": "stdin",
     "output_type": "stream",
     "text": [
      "Birinci sayıyı gir:  58\n",
      "İkinci sayıyı gir:  4\n"
     ]
    },
    {
     "name": "stdout",
     "output_type": "stream",
     "text": [
      "Girmiş olduğun 1. sayi:  58\n",
      "Girmiş olduğun 2. sayı:  4\n",
      "Bölümleri:  14.5\n"
     ]
    }
   ],
   "source": [
    "sayi1 = int(input(\"Birinci sayıyı gir: \"))\n",
    "sayi2 = int(input(\"İkinci sayıyı gir: \"))\n",
    "bolme = sayi1/sayi2\n",
    "\n",
    "print(\"Girmiş olduğun 1. sayi: \", sayi1)\n",
    "print(\"Girmiş olduğun 2. sayı: \", sayi2)\n",
    "print(\"Bölümleri: \", bolme)"
   ]
  },
  {
   "cell_type": "markdown",
   "id": "derived-practitioner",
   "metadata": {},
   "source": [
    "örnek: dinamik üs alma"
   ]
  },
  {
   "cell_type": "code",
   "execution_count": 32,
   "id": "streaming-partnership",
   "metadata": {},
   "outputs": [
    {
     "name": "stdin",
     "output_type": "stream",
     "text": [
      "Birinci sayıyı gir:  90\n",
      "İkinci sayıyı gir:  90\n"
     ]
    },
    {
     "name": "stdout",
     "output_type": "stream",
     "text": [
      "Girmiş olduğun 1. sayi:  90\n",
      "Girmiş olduğun 2. sayı:  90\n",
      "üs:  76177348045866392339289727720615561750424801402395196724001565744957137343033038019601000000000000000000000000000000000000000000000000000000000000000000000000000000000000000000\n"
     ]
    }
   ],
   "source": [
    "sayi1 = int(input(\"Birinci sayıyı gir: \"))\n",
    "sayi2 = int(input(\"İkinci sayıyı gir: \"))\n",
    "us = sayi1**sayi2\n",
    "\n",
    "print(\"Girmiş olduğun 1. sayi: \", sayi1)\n",
    "print(\"Girmiş olduğun 2. sayı: \", sayi2)\n",
    "print(\"üs: \", us)"
   ]
  },
  {
   "cell_type": "code",
   "execution_count": null,
   "id": "western-basement",
   "metadata": {},
   "outputs": [],
   "source": []
  }
 ],
 "metadata": {
  "kernelspec": {
   "display_name": "Python 3",
   "language": "python",
   "name": "python3"
  },
  "language_info": {
   "codemirror_mode": {
    "name": "ipython",
    "version": 3
   },
   "file_extension": ".py",
   "mimetype": "text/x-python",
   "name": "python",
   "nbconvert_exporter": "python",
   "pygments_lexer": "ipython3",
   "version": "3.7.8"
  }
 },
 "nbformat": 4,
 "nbformat_minor": 5
}
