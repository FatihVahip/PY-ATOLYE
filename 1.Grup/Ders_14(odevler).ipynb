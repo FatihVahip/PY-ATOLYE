{
  "nbformat": 4,
  "nbformat_minor": 0,
  "metadata": {
    "colab": {
      "name": "Ders-14(odevler).ipynb",
      "provenance": [],
      "collapsed_sections": []
    },
    "kernelspec": {
      "name": "python3",
      "display_name": "Python 3"
    },
    "language_info": {
      "name": "python"
    }
  },
  "cells": [
    {
      "cell_type": "code",
      "metadata": {
        "id": "2_BiJFrszfZC"
      },
      "source": [
        "#Alparslan Özdemir....\n",
        "\n",
        "def toplama():\n",
        "  a=int(input(\"Sayı giriniz: \"))\n",
        "  b=int(input(\"Sayı giriniz: \"))\n",
        "  print(\"Toplam: \",a+b)\n",
        "def çıkarma():\n",
        "  a=int(input(\"Sayı giriniz: \"))\n",
        "  b=int(input(\"Sayı giriniz: \"))\n",
        "  print(\"Fark: \",a-b)\n",
        "def bölme():\n",
        "  a=int(input(\"Sayı giriniz: \"))\n",
        "  b=int(input(\"Sayı giriniz: \"))\n",
        "  print(\"Bölüm: \",a/b)\n",
        "def çarpma():\n",
        "  a=int(input(\"Sayı giriniz: \"))\n",
        "  b=int(input(\"Sayı giriniz: \"))\n",
        "  print(\"Çarpım: \",a*b)\n",
        "def üs():\n",
        "  a=int(input(\"Taban giriniz: \"))\n",
        "  b=int(input(\"Üs giriniz: \"))\n",
        "  print(\"Değer: \",a**b)\n",
        "def ortalama():\n",
        "  a=int(input(\"1. Sayıyı giriniz: \"))\n",
        "  b=int(input(\"2. Sayıyı giriniz: \"))\n",
        "  print(\"İki sayının ortalaması: \",(a+b)/2)\n",
        "def yüzde():\n",
        "  a=int(input(\"Sayıyı giriniz: \"))\n",
        "  b=int(input(\"Sayının %'de kaçını istediğinizi giriniz: \"))\n",
        "  sonuc=\"{} sayısının %{}'si: {}\"\n",
        "  print(sonuc.format(a,b,(a/100)*b))\n",
        "def karekök():\n",
        "  a=int(input(\"Sayıyı giriniz: \"))\n",
        "  print(\"Girdiğiniz sayının karekökü: {} \".format(a**(0.5)),)"
      ],
      "execution_count": 12,
      "outputs": []
    },
    {
      "cell_type": "code",
      "metadata": {
        "colab": {
          "base_uri": "https://localhost:8080/"
        },
        "id": "6Vo677xJ0Fly",
        "outputId": "c8dd4ef2-71c6-4804-d2bf-d2218f530da0"
      },
      "source": [
        "karekök()"
      ],
      "execution_count": 11,
      "outputs": [
        {
          "output_type": "stream",
          "text": [
            "Sayıyı giriniz: 16\n",
            "Girdiğiniz sayının karekökü: 4.0 \n"
          ],
          "name": "stdout"
        }
      ]
    },
    {
      "cell_type": "code",
      "metadata": {
        "colab": {
          "base_uri": "https://localhost:8080/"
        },
        "id": "iKi03P4C0T1w",
        "outputId": "c9498f5c-e092-4ce5-8e70-ff2911a98fb7"
      },
      "source": [
        "çarpma()"
      ],
      "execution_count": 15,
      "outputs": [
        {
          "output_type": "stream",
          "text": [
            "Sayı giriniz: 8\n",
            "Sayı giriniz: 5\n",
            "Çarpım:  40\n"
          ],
          "name": "stdout"
        }
      ]
    },
    {
      "cell_type": "code",
      "metadata": {
        "id": "K-hJ5Naz0n36"
      },
      "source": [
        "#Meryem Demirci\n",
        "def Karekokalma():\n",
        "  a = int(input(\"Birinci sayıyı giriniz: \"))\n",
        "  print(\"Girdiin sayılar {}. Karekökü: {}\".format(a, a**0.5))\n"
      ],
      "execution_count": 20,
      "outputs": []
    },
    {
      "cell_type": "code",
      "metadata": {
        "colab": {
          "base_uri": "https://localhost:8080/"
        },
        "id": "7HjfhakV1Llw",
        "outputId": "1aa545d6-b365-4d9c-e8af-9b4fc7cb78e6"
      },
      "source": [
        "Karekokalma()"
      ],
      "execution_count": 21,
      "outputs": [
        {
          "output_type": "stream",
          "text": [
            "Birinci sayıyı giriniz: 25\n",
            "Girdiin sayılar 25. Karekökü: 5.0\n"
          ],
          "name": "stdout"
        }
      ]
    },
    {
      "cell_type": "code",
      "metadata": {
        "id": "1Tgwxbok1Nge"
      },
      "source": [
        "def usalma():\n",
        "  a=int(input(\"1.Sayı giriniz: \"))\n",
        "  b=int(input(\"2.Sayı giriniz: \"))\n",
        "  print(\"Girdiğin sayılar {}, {}. Üs Sonucu: {}\".format(a,b,a**b))"
      ],
      "execution_count": 23,
      "outputs": []
    },
    {
      "cell_type": "code",
      "metadata": {
        "colab": {
          "base_uri": "https://localhost:8080/"
        },
        "id": "Ef66Lsi41XiD",
        "outputId": "8f6ee696-0f37-41d9-919a-d203dd195bba"
      },
      "source": [
        "usalma()"
      ],
      "execution_count": 24,
      "outputs": [
        {
          "output_type": "stream",
          "text": [
            "1.Sayı giriniz: 3\n",
            "2.Sayı giriniz: 4\n",
            "Girdiğin sayılar 3, 4. Üs Sonucu: 81\n"
          ],
          "name": "stdout"
        }
      ]
    },
    {
      "cell_type": "code",
      "metadata": {
        "colab": {
          "base_uri": "https://localhost:8080/"
        },
        "id": "JPVXZgDW1Yzo",
        "outputId": "796a853e-484c-4b8d-f100-a31d3a74ceeb"
      },
      "source": [
        "#batu Kurtuluş\n",
        "a=5\n",
        "b=4\n",
        "c=5\n",
        "sonuc= a**b\n",
        "print(a, \"^\" ,b, \"=\", sonuc)\n",
        "sonuc=a**c\n",
        "print(a,\"^\",c,\" = \",sonuc)"
      ],
      "execution_count": 26,
      "outputs": [
        {
          "output_type": "stream",
          "text": [
            "5 ^ 4 = 625\n",
            "5 ^ 5  =  3125\n"
          ],
          "name": "stdout"
        }
      ]
    },
    {
      "cell_type": "code",
      "metadata": {
        "colab": {
          "base_uri": "https://localhost:8080/"
        },
        "id": "x1_8zJvl1p57",
        "outputId": "2616acc2-c8d2-419d-9093-55c1058590f5"
      },
      "source": [
        "#Büşra Ulusoy\n",
        "\n",
        "def Topla(a, b):\n",
        "   return a + b\n",
        " \n",
        "def Cikar(a, b):\n",
        "   return a - b\n",
        "\n",
        "def Carp(a, b):\n",
        "   return a * b\n",
        " \n",
        "def Bol(a, b):\n",
        "   return a / b\n",
        " \n",
        "print(\"Yapılacak İşlemi Seçin.\")\n",
        "print(\"=======================\")\n",
        "print(\"1.Toplama\")\n",
        "print(\"2.Çıkarma\")\n",
        "print(\"3.Çarpma\")\n",
        "print(\"4.Bölme\")\n",
        " \n",
        "\n",
        "secim = input(\"Seçiminiz (1/2/3/4):\")\n",
        " \n",
        "sayi1 = int(input(\"1. Sayı: \"))\n",
        "sayi2 = int(input(\"2. Sayı: \"))\n",
        " \n",
        "if secim == '1':\n",
        "   print(sayi1,\"+\",sayi2,\"=\", Topla(sayi1,sayi2))\n",
        " \n",
        "elif secim == '2':\n",
        "   print(sayi1,\"-\",sayi2,\"=\", Cikar(sayi1,sayi2))\n",
        " \n",
        "elif secim == '3':\n",
        "   print(sayi1,\"*\",sayi2,\"=\", Carp(sayi1,sayi2))\n",
        " \n",
        "elif secim == '4':\n",
        "   print(sayi1,\"/\",sayi2,\"=\", Bol(sayi1,sayi2))\n",
        "else:\n",
        "   print(\"Yanlış giriş\")"
      ],
      "execution_count": 32,
      "outputs": [
        {
          "output_type": "stream",
          "text": [
            "Yapılacak İşlemi Seçin.\n",
            "=======================\n",
            "1.Toplama\n",
            "2.Çıkarma\n",
            "3.Çarpma\n",
            "4.Bölme\n",
            "Seçiminiz (1/2/3/4):3\n",
            "1. Sayı: 45\n",
            "2. Sayı: 78\n",
            "45 * 78 = 3510\n"
          ],
          "name": "stdout"
        }
      ]
    },
    {
      "cell_type": "code",
      "metadata": {
        "id": "9E0drf9y2FJR"
      },
      "source": [
        "def toplama():\n",
        "  a=int(input(\"1.Sayı giriniz: \"))\n",
        "  b=int(input(\"2.Sayı giriniz: \"))\n",
        "  print(\"Girdiğin sayılar {}, {}. Toplamları: {}\".format(a,b,a+b))"
      ],
      "execution_count": 34,
      "outputs": []
    },
    {
      "cell_type": "code",
      "metadata": {
        "id": "5XrmvQBK25Tf"
      },
      "source": [
        "def cikarma():\n",
        "  a=int(input(\"1.Sayı giriniz: \"))\n",
        "  b=int(input(\"2.Sayı giriniz: \"))\n",
        "  print(\"Girdiğin sayılar {}, {}. Farkı: {}\".format(a,b,a-b))"
      ],
      "execution_count": 35,
      "outputs": []
    },
    {
      "cell_type": "code",
      "metadata": {
        "id": "9T82G3w327PX"
      },
      "source": [
        "def bolme():\n",
        "  a=int(input(\"1.Sayı giriniz: \"))\n",
        "  b=int(input(\"2.Sayı giriniz: \"))\n",
        "  print(\"Girdiğin sayılar {}, {}. Bölümleri: {}\".format(a,b,a/b))"
      ],
      "execution_count": 36,
      "outputs": []
    },
    {
      "cell_type": "code",
      "metadata": {
        "id": "FPrJkW9Z29cV"
      },
      "source": [
        "def carpma():\n",
        "  a=int(input(\"1.Sayı giriniz: \"))\n",
        "  b=int(input(\"2.Sayı giriniz: \"))\n",
        "  print(\"Girdiğin sayılar {}, {}. Çarpımları: {}\".format(a,b,a*b))"
      ],
      "execution_count": 37,
      "outputs": []
    },
    {
      "cell_type": "code",
      "metadata": {
        "id": "GiRHjIlg2_yC"
      },
      "source": [
        "def hesapmakinasi():\n",
        "  islem = input(\"hangi işlemi yapmak istiyorsun(toplama için 1, çıkarma için 2, bolme için 3, çarpma için 4 e basmalısın....)\")\n",
        "  if islem ==\"1\":\n",
        "    print(\"Fonksiyon çalışmaya başladı....\")\n",
        "    toplama()\n",
        "  elif islem ==\"2\":\n",
        "    print(\"Fonksiyon çalışmaya başladı....\")\n",
        "    cikarma()\n",
        "  elif islem ==\"3\":\n",
        "    print(\"Fonksiyon çalışmaya başladı....\")\n",
        "    bolme()\n",
        "  elif islem ==\"4\":\n",
        "    print(\"Fonksiyon çalışmaya başladı....\")\n",
        "    carpma()\n",
        "  else:\n",
        "    print(\"Lütfen geçerli bir işlem seç..:)\")"
      ],
      "execution_count": 38,
      "outputs": []
    },
    {
      "cell_type": "code",
      "metadata": {
        "colab": {
          "base_uri": "https://localhost:8080/"
        },
        "id": "ZVgCCnFo3C0w",
        "outputId": "3d396d59-ebb7-4fc1-d147-4953692082db"
      },
      "source": [
        "hesapmakinasi()"
      ],
      "execution_count": 39,
      "outputs": [
        {
          "output_type": "stream",
          "text": [
            "hangi işlemi yapmak istiyorsun(toplama için 1, çıkarma için 2, bolme için 3, çarpma için 4 e basmalısın....)1\n",
            "Fonksiyon çalışmaya başladı....\n",
            "1.Sayı giriniz: 6\n",
            "2.Sayı giriniz: 67\n",
            "Girdiğin sayılar 6, 67. Toplamları: 73\n"
          ],
          "name": "stdout"
        }
      ]
    },
    {
      "cell_type": "code",
      "metadata": {
        "id": "ZHg5SGVS3GQw"
      },
      "source": [
        ""
      ],
      "execution_count": null,
      "outputs": []
    }
  ]
}