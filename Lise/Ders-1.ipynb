{
  "nbformat": 4,
  "nbformat_minor": 0,
  "metadata": {
    "colab": {
      "name": "Untitled1.ipynb",
      "provenance": []
    },
    "kernelspec": {
      "name": "python3",
      "display_name": "Python 3"
    },
    "language_info": {
      "name": "python"
    }
  },
  "cells": [
    {
      "cell_type": "code",
      "metadata": {
        "colab": {
          "base_uri": "https://localhost:8080/"
        },
        "id": "-8Wei2mHARIb",
        "outputId": "4178eefd-a963-41eb-f3d5-9c5a500dca4f"
      },
      "source": [
        "print(\"Merhaba Argem\")"
      ],
      "execution_count": 1,
      "outputs": [
        {
          "output_type": "stream",
          "text": [
            "Merhaba Argem\n"
          ],
          "name": "stdout"
        }
      ]
    },
    {
      "cell_type": "code",
      "metadata": {
        "id": "tMDnL_t2DkHS"
      },
      "source": [
        "Karakter Dizileri (String)"
      ],
      "execution_count": null,
      "outputs": []
    },
    {
      "cell_type": "code",
      "metadata": {
        "colab": {
          "base_uri": "https://localhost:8080/",
          "height": 35
        },
        "id": "Ywq2pPdWDu3H",
        "outputId": "12b0028d-52f8-4c7b-a5bf-4c7a3a06b956"
      },
      "source": [
        "\"merhaba\""
      ],
      "execution_count": 2,
      "outputs": [
        {
          "output_type": "execute_result",
          "data": {
            "application/vnd.google.colaboratory.intrinsic+json": {
              "type": "string"
            },
            "text/plain": [
              "'merhaba'"
            ]
          },
          "metadata": {
            "tags": []
          },
          "execution_count": 2
        }
      ]
    },
    {
      "cell_type": "markdown",
      "metadata": {
        "id": "-Q5yEzdCEBS6"
      },
      "source": [
        "-\"\" tırnak\n",
        "-'' tırnak\n",
        "-\"\"\"\"\"\" tırnak"
      ]
    },
    {
      "cell_type": "code",
      "metadata": {
        "colab": {
          "base_uri": "https://localhost:8080/"
        },
        "id": "IoLbSX3SEKW3",
        "outputId": "3f302779-42fa-41e4-c08c-ffe39ada0a0c"
      },
      "source": [
        "print(\"İstanbu'u çok seviyorum\")"
      ],
      "execution_count": 3,
      "outputs": [
        {
          "output_type": "stream",
          "text": [
            "İstanbu'u çok seviyorum\n"
          ],
          "name": "stdout"
        }
      ]
    },
    {
      "cell_type": "code",
      "metadata": {
        "colab": {
          "base_uri": "https://localhost:8080/"
        },
        "id": "FGkVXjfwEUhi",
        "outputId": "3b316c29-fb39-437a-f1f2-fed2d33f41d6"
      },
      "source": [
        "print('merhaba')"
      ],
      "execution_count": 4,
      "outputs": [
        {
          "output_type": "stream",
          "text": [
            "merhaba\n"
          ],
          "name": "stdout"
        }
      ]
    },
    {
      "cell_type": "code",
      "metadata": {
        "colab": {
          "base_uri": "https://localhost:8080/"
        },
        "id": "kktpC3ZQEX6n",
        "outputId": "6fef8759-284b-4e72-9c97-cdfbca03c917"
      },
      "source": [
        "print(\"\"\"hadhadgsajdasdhasdljwdjdjalsdajsldjsd\n",
        "asdas\n",
        "dsa\n",
        "d\n",
        "asd\n",
        "a\n",
        "sd\n",
        "asd\n",
        "as\n",
        "da\n",
        "d\n",
        "a\"\"\")"
      ],
      "execution_count": 5,
      "outputs": [
        {
          "output_type": "stream",
          "text": [
            "hadhadgsajdasdhasdljwdjdjalsdajsldjsd\n",
            "asdas\n",
            "dsa\n",
            "d\n",
            "asd\n",
            "a\n",
            "sd\n",
            "asd\n",
            "as\n",
            "da\n",
            "d\n",
            "a\n"
          ],
          "name": "stdout"
        }
      ]
    },
    {
      "cell_type": "code",
      "metadata": {
        "id": "IgyD2YB9Erny"
      },
      "source": [
        "#değişken karamı"
      ],
      "execution_count": null,
      "outputs": []
    },
    {
      "cell_type": "code",
      "metadata": {
        "colab": {
          "base_uri": "https://localhost:8080/"
        },
        "id": "6v1VQLOKEvK9",
        "outputId": "614e801d-bdad-4deb-9d99-5e984b34e163"
      },
      "source": [
        " ad = \"Argem\"\n",
        " print(ad)"
      ],
      "execution_count": 8,
      "outputs": [
        {
          "output_type": "stream",
          "text": [
            "Argem\n"
          ],
          "name": "stdout"
        }
      ]
    },
    {
      "cell_type": "code",
      "metadata": {
        "id": "r-IKU6DtFMUQ"
      },
      "source": [
        "#sayılar int , float"
      ],
      "execution_count": null,
      "outputs": []
    },
    {
      "cell_type": "code",
      "metadata": {
        "colab": {
          "base_uri": "https://localhost:8080/"
        },
        "id": "mQm6mjpfFUDg",
        "outputId": "75170c41-b195-4055-854f-ff516d3dd0dc"
      },
      "source": [
        "4 +5"
      ],
      "execution_count": 9,
      "outputs": [
        {
          "output_type": "execute_result",
          "data": {
            "text/plain": [
              "9"
            ]
          },
          "metadata": {
            "tags": []
          },
          "execution_count": 9
        }
      ]
    },
    {
      "cell_type": "code",
      "metadata": {
        "colab": {
          "base_uri": "https://localhost:8080/"
        },
        "id": "ovHcgBOzFXNs",
        "outputId": "f73c5e17-4bb7-456b-eea2-c5e0aff22c4b"
      },
      "source": [
        "a = 3\n",
        "b = 7\n",
        "toplam = a+b\n",
        "carpim = a*b\n",
        "print(toplam)\n",
        "print(carpim)"
      ],
      "execution_count": 14,
      "outputs": [
        {
          "output_type": "stream",
          "text": [
            "10\n",
            "21\n"
          ],
          "name": "stdout"
        }
      ]
    },
    {
      "cell_type": "code",
      "metadata": {
        "colab": {
          "base_uri": "https://localhost:8080/"
        },
        "id": "Vb5CT9WNFtZA",
        "outputId": "fe02b628-5579-466c-ac45-b2c4e00ae2ca"
      },
      "source": [
        "#type() \n",
        "type(\"argem\")"
      ],
      "execution_count": 15,
      "outputs": [
        {
          "output_type": "execute_result",
          "data": {
            "text/plain": [
              "str"
            ]
          },
          "metadata": {
            "tags": []
          },
          "execution_count": 15
        }
      ]
    },
    {
      "cell_type": "code",
      "metadata": {
        "colab": {
          "base_uri": "https://localhost:8080/"
        },
        "id": "PFVDT6HHF3gF",
        "outputId": "ffaa2aa6-ca74-4e51-a99f-7281ea82fa31"
      },
      "source": [
        "type(4)"
      ],
      "execution_count": 16,
      "outputs": [
        {
          "output_type": "execute_result",
          "data": {
            "text/plain": [
              "int"
            ]
          },
          "metadata": {
            "tags": []
          },
          "execution_count": 16
        }
      ]
    },
    {
      "cell_type": "code",
      "metadata": {
        "colab": {
          "base_uri": "https://localhost:8080/"
        },
        "id": "bXo1RRD2F57j",
        "outputId": "18fd1c9e-6d6f-4e97-b49d-561765ea45fd"
      },
      "source": [
        "type(3.9)"
      ],
      "execution_count": 17,
      "outputs": [
        {
          "output_type": "execute_result",
          "data": {
            "text/plain": [
              "float"
            ]
          },
          "metadata": {
            "tags": []
          },
          "execution_count": 17
        }
      ]
    },
    {
      "cell_type": "code",
      "metadata": {
        "colab": {
          "base_uri": "https://localhost:8080/"
        },
        "id": "a_thGVWqF-nI",
        "outputId": "7e5c1d7c-1726-4896-a1b5-69cee4dc2fe8"
      },
      "source": [
        "ad = \"veysel\"\n",
        "soyad = \" kaya\"\n",
        "print(ad+soyad)"
      ],
      "execution_count": 19,
      "outputs": [
        {
          "output_type": "stream",
          "text": [
            "veysel kaya\n"
          ],
          "name": "stdout"
        }
      ]
    },
    {
      "cell_type": "code",
      "metadata": {
        "colab": {
          "base_uri": "https://localhost:8080/"
        },
        "id": "aF-mvquoGIPP",
        "outputId": "5b528647-5e27-4970-95f1-a390db808f92"
      },
      "source": [
        "a =\"5\"\n",
        "b =\"6\"\n",
        "print(a+b)"
      ],
      "execution_count": 20,
      "outputs": [
        {
          "output_type": "stream",
          "text": [
            "56\n"
          ],
          "name": "stdout"
        }
      ]
    },
    {
      "cell_type": "code",
      "metadata": {
        "colab": {
          "base_uri": "https://localhost:8080/"
        },
        "id": "PzgdiFK8GUPQ",
        "outputId": "13c8852b-5b56-4513-a7a9-6575daabf403"
      },
      "source": [
        "a =5\n",
        "b =6\n",
        "print(a+b)"
      ],
      "execution_count": 21,
      "outputs": [
        {
          "output_type": "stream",
          "text": [
            "11\n"
          ],
          "name": "stdout"
        }
      ]
    },
    {
      "cell_type": "code",
      "metadata": {
        "id": "N4JP58prGbFO"
      },
      "source": [
        "#matematiksel operatörler\n",
        "# +, - / ,*, %, //, **"
      ],
      "execution_count": null,
      "outputs": []
    },
    {
      "cell_type": "code",
      "metadata": {
        "colab": {
          "base_uri": "https://localhost:8080/"
        },
        "id": "pNUsp8QfGm20",
        "outputId": "25026a13-9b53-4bf1-a375-392fafddd486"
      },
      "source": [
        "7+5"
      ],
      "execution_count": 22,
      "outputs": [
        {
          "output_type": "execute_result",
          "data": {
            "text/plain": [
              "12"
            ]
          },
          "metadata": {
            "tags": []
          },
          "execution_count": 22
        }
      ]
    },
    {
      "cell_type": "code",
      "metadata": {
        "colab": {
          "base_uri": "https://localhost:8080/"
        },
        "id": "mx33hiV7GolP",
        "outputId": "913b01c3-bc84-424a-81ee-6fcbc06899ca"
      },
      "source": [
        "8-9"
      ],
      "execution_count": 23,
      "outputs": [
        {
          "output_type": "execute_result",
          "data": {
            "text/plain": [
              "-1"
            ]
          },
          "metadata": {
            "tags": []
          },
          "execution_count": 23
        }
      ]
    },
    {
      "cell_type": "code",
      "metadata": {
        "colab": {
          "base_uri": "https://localhost:8080/"
        },
        "id": "SCdXKqWYGqNZ",
        "outputId": "e5e146f9-0d4c-46ed-c349-3479acd610a4"
      },
      "source": [
        "8/9"
      ],
      "execution_count": 24,
      "outputs": [
        {
          "output_type": "execute_result",
          "data": {
            "text/plain": [
              "0.8888888888888888"
            ]
          },
          "metadata": {
            "tags": []
          },
          "execution_count": 24
        }
      ]
    },
    {
      "cell_type": "code",
      "metadata": {
        "colab": {
          "base_uri": "https://localhost:8080/"
        },
        "id": "eMKvX2byGr9e",
        "outputId": "6dd1c0cf-ec23-404a-985c-03f00b312acb"
      },
      "source": [
        "80%6"
      ],
      "execution_count": 28,
      "outputs": [
        {
          "output_type": "execute_result",
          "data": {
            "text/plain": [
              "2"
            ]
          },
          "metadata": {
            "tags": []
          },
          "execution_count": 28
        }
      ]
    },
    {
      "cell_type": "code",
      "metadata": {
        "colab": {
          "base_uri": "https://localhost:8080/"
        },
        "id": "bRkpIrGpG4rn",
        "outputId": "95190cc8-b718-4344-aa38-f2d2d5122f19"
      },
      "source": [
        "10//4"
      ],
      "execution_count": 30,
      "outputs": [
        {
          "output_type": "execute_result",
          "data": {
            "text/plain": [
              "2"
            ]
          },
          "metadata": {
            "tags": []
          },
          "execution_count": 30
        }
      ]
    },
    {
      "cell_type": "code",
      "metadata": {
        "colab": {
          "base_uri": "https://localhost:8080/"
        },
        "id": "5_kf6Ke_G-3y",
        "outputId": "fef30394-f250-413f-8600-1cfda8c5bdff"
      },
      "source": [
        "3**4"
      ],
      "execution_count": 31,
      "outputs": [
        {
          "output_type": "execute_result",
          "data": {
            "text/plain": [
              "81"
            ]
          },
          "metadata": {
            "tags": []
          },
          "execution_count": 31
        }
      ]
    },
    {
      "cell_type": "code",
      "metadata": {
        "colab": {
          "base_uri": "https://localhost:8080/"
        },
        "id": "iGSyjl5wHBg-",
        "outputId": "11c1a14c-6884-41ae-ed5f-cb4eb7fce2c7"
      },
      "source": [
        "81**(0.5)"
      ],
      "execution_count": 32,
      "outputs": [
        {
          "output_type": "execute_result",
          "data": {
            "text/plain": [
              "9.0"
            ]
          },
          "metadata": {
            "tags": []
          },
          "execution_count": 32
        }
      ]
    },
    {
      "cell_type": "code",
      "metadata": {
        "colab": {
          "base_uri": "https://localhost:8080/"
        },
        "id": "Fw7Hvw4oHF_-",
        "outputId": "353ec66d-bdea-4693-921b-e8fbe808a75f"
      },
      "source": [
        "27**(1/3)"
      ],
      "execution_count": 33,
      "outputs": [
        {
          "output_type": "execute_result",
          "data": {
            "text/plain": [
              "3.0"
            ]
          },
          "metadata": {
            "tags": []
          },
          "execution_count": 33
        }
      ]
    },
    {
      "cell_type": "code",
      "metadata": {
        "colab": {
          "base_uri": "https://localhost:8080/"
        },
        "id": "nzawNBuzHKDE",
        "outputId": "f5383945-dead-4eec-cdd7-3ec52f9c0c51"
      },
      "source": [
        "(3**6-5) +87/3"
      ],
      "execution_count": 34,
      "outputs": [
        {
          "output_type": "execute_result",
          "data": {
            "text/plain": [
              "753.0"
            ]
          },
          "metadata": {
            "tags": []
          },
          "execution_count": 34
        }
      ]
    },
    {
      "cell_type": "code",
      "metadata": {
        "id": "dSRshR3lHTo5"
      },
      "source": [
        "#input()---- kullanıcıdan değer almak için kullanılır"
      ],
      "execution_count": null,
      "outputs": []
    },
    {
      "cell_type": "code",
      "metadata": {
        "colab": {
          "base_uri": "https://localhost:8080/"
        },
        "id": "wQZm_cn4HZaW",
        "outputId": "fee8e94a-64dc-498a-db44-2ff2dec410a9"
      },
      "source": [
        "ad = input(\"Adını gir: \")\n",
        "\n",
        "print(\"Hoşgeldin\", ad)"
      ],
      "execution_count": 36,
      "outputs": [
        {
          "output_type": "stream",
          "text": [
            "Adını gir: Kerem\n",
            "Hoşgeldin Kerem\n"
          ],
          "name": "stdout"
        }
      ]
    },
    {
      "cell_type": "code",
      "metadata": {
        "colab": {
          "base_uri": "https://localhost:8080/"
        },
        "id": "GCtF0trrHrhZ",
        "outputId": "615106ac-5595-40dd-a243-f1a4a3a91260"
      },
      "source": [
        "sayi1 = input(\"Birinci sayıyı gir:\")\n",
        "sayi2 = input(\"İkinci sayıyı gir:\")\n",
        "toplam = sayi1 + sayi2 \n",
        "print(\"girdiğin sayılar:\" , sayi1, sayi2, \"Toplamları\", toplam)"
      ],
      "execution_count": 38,
      "outputs": [
        {
          "output_type": "stream",
          "text": [
            "Birinci sayıyı gir:6.7\n",
            "İkinci sayıyı gir:5\n",
            "girdiğin sayılar: 6.7 5 Toplamları 6.75\n"
          ],
          "name": "stdout"
        }
      ]
    },
    {
      "cell_type": "code",
      "metadata": {
        "id": "OsaxyLH8IPrg"
      },
      "source": [
        "#format kavramı"
      ],
      "execution_count": null,
      "outputs": []
    },
    {
      "cell_type": "code",
      "metadata": {
        "colab": {
          "base_uri": "https://localhost:8080/"
        },
        "id": "mNeMARPSITdF",
        "outputId": "2b253168-caf3-41ce-e731-e195ede39aba"
      },
      "source": [
        "yas = input(\"yaşını gir:\")\n",
        "print(\"Yaşınız {}\".format(yas))"
      ],
      "execution_count": 40,
      "outputs": [
        {
          "output_type": "stream",
          "text": [
            "yaşını gir:89\n",
            "Yaşınız 89\n"
          ],
          "name": "stdout"
        }
      ]
    },
    {
      "cell_type": "code",
      "metadata": {
        "colab": {
          "base_uri": "https://localhost:8080/"
        },
        "id": "_RTqwofNIldx",
        "outputId": "4126326a-b672-43a2-fe44-b8478827740d"
      },
      "source": [
        "sayi1 = input(\"Birinci sayıyı gir:\")\n",
        "sayi2 = input(\"İkinci sayıyı gir:\")\n",
        "print(\"girdiğin sayılar, {} ,{} toplamları {}\".format(sayi1, sayi2, sayi1+sayi2))"
      ],
      "execution_count": 41,
      "outputs": [
        {
          "output_type": "stream",
          "text": [
            "Birinci sayıyı gir:67\n",
            "İkinci sayıyı gir:45\n",
            "girdiğin sayılar, 67 ,45 toplamları 6745\n"
          ],
          "name": "stdout"
        }
      ]
    },
    {
      "cell_type": "code",
      "metadata": {
        "colab": {
          "base_uri": "https://localhost:8080/"
        },
        "id": "tev5ChwfI3HL",
        "outputId": "469e319d-f2ab-42bc-d2d8-59abb5c2042a"
      },
      "source": [
        "#pisagor teoremi\n",
        "a = int(input(\"Birinci dik kernarı gir: \"))\n",
        "b = int(input(\"İkinci dik kenarı gir: \"))\n",
        "hipo = (a**2 + b**2)**(0.5)\n",
        "print(\"girmiş olduğun dik üçgenin dik kenarları {} ,{} dir. Hipotenüs ise {}\".format(a,b,hipo))\n"
      ],
      "execution_count": 45,
      "outputs": [
        {
          "output_type": "stream",
          "text": [
            "Birinci dik kernarı gir: 5\n",
            "İkinci dik kenarı gir: 12\n",
            "girmiş olduğun dik üçgenin dik kenarları 5 ,12 dir. Hipotenüs ise 13.0\n"
          ],
          "name": "stdout"
        }
      ]
    },
    {
      "cell_type": "code",
      "metadata": {
        "colab": {
          "base_uri": "https://localhost:8080/"
        },
        "id": "CP8joMB_J5zf",
        "outputId": "e74f5d19-998e-4b49-be6d-726af23a0fde"
      },
      "source": [
        "#dairenin alanı hesaplayan program\n",
        "\n",
        "r = float(input(\"dairenin yarıçapını gir: \"))\n",
        "pi = 3.14\n",
        "alan = pi*r**2\n",
        "print(\"Girdiğin dairenin yarıçapı {}. dairenin alanı {} \". format(r, alan))\n",
        "\n"
      ],
      "execution_count": 52,
      "outputs": [
        {
          "output_type": "stream",
          "text": [
            "dairenin yarıçapını gir: 9.6\n",
            "Girdiğin dairenin yarıçapı 9.6. dairenin alanı 289.3824 \n"
          ],
          "name": "stdout"
        }
      ]
    },
    {
      "cell_type": "code",
      "metadata": {
        "colab": {
          "base_uri": "https://localhost:8080/",
          "height": 35
        },
        "id": "qcjYUT8WLTU1",
        "outputId": "b308cd18-a2e3-45cc-d7fc-736053e3a22e"
      },
      "source": [
        "a = \"kedi\"\n",
        "b = \"elma\"\n",
        "\n",
        "a=b\n"
      ],
      "execution_count": 53,
      "outputs": [
        {
          "output_type": "execute_result",
          "data": {
            "application/vnd.google.colaboratory.intrinsic+json": {
              "type": "string"
            },
            "text/plain": [
              "'elma'"
            ]
          },
          "metadata": {
            "tags": []
          },
          "execution_count": 53
        }
      ]
    },
    {
      "cell_type": "code",
      "metadata": {
        "colab": {
          "base_uri": "https://localhost:8080/"
        },
        "id": "_UZk1JNZLeDa",
        "outputId": "771fca49-cd44-47ac-922c-10cda9f4b748"
      },
      "source": [
        "a = \"kedi\"\n",
        "b = \"elma\"\n",
        "\n",
        "a,b = b,a\n",
        "print(b)"
      ],
      "execution_count": 55,
      "outputs": [
        {
          "output_type": "stream",
          "text": [
            "kedi\n"
          ],
          "name": "stdout"
        }
      ]
    },
    {
      "cell_type": "code",
      "metadata": {
        "colab": {
          "base_uri": "https://localhost:8080/",
          "height": 35
        },
        "id": "aH9DIoSoLyZf",
        "outputId": "932a2039-17a4-4f6a-92f0-42f456d123e8"
      },
      "source": [
        "ad = \"Baran\"\n",
        "\n",
        "ad[-1:]"
      ],
      "execution_count": 62,
      "outputs": [
        {
          "output_type": "execute_result",
          "data": {
            "application/vnd.google.colaboratory.intrinsic+json": {
              "type": "string"
            },
            "text/plain": [
              "'n'"
            ]
          },
          "metadata": {
            "tags": []
          },
          "execution_count": 62
        }
      ]
    },
    {
      "cell_type": "code",
      "metadata": {
        "colab": {
          "base_uri": "https://localhost:8080/",
          "height": 35
        },
        "id": "vZTGGW8ZMO7j",
        "outputId": "fdccee22-7a8d-425e-c5fa-b1c3de0ea608"
      },
      "source": [
        "a = \"12679875678\"\n",
        "a[6]"
      ],
      "execution_count": 64,
      "outputs": [
        {
          "output_type": "execute_result",
          "data": {
            "application/vnd.google.colaboratory.intrinsic+json": {
              "type": "string"
            },
            "text/plain": [
              "'7'"
            ]
          },
          "metadata": {
            "tags": []
          },
          "execution_count": 64
        }
      ]
    },
    {
      "cell_type": "code",
      "metadata": {
        "colab": {
          "base_uri": "https://localhost:8080/"
        },
        "id": "RewaPt9dMaA9",
        "outputId": "ca3146a9-15ab-442d-e15c-9d1d6d2bf13e"
      },
      "source": [
        "type(3)"
      ],
      "execution_count": 65,
      "outputs": [
        {
          "output_type": "execute_result",
          "data": {
            "text/plain": [
              "int"
            ]
          },
          "metadata": {
            "tags": []
          },
          "execution_count": 65
        }
      ]
    },
    {
      "cell_type": "code",
      "metadata": {
        "colab": {
          "base_uri": "https://localhost:8080/"
        },
        "id": "GLsOmZ_3MiwV",
        "outputId": "7b206748-93e0-4501-fcb1-708a50ab0d1b"
      },
      "source": [
        "print(dir(\"String\"))"
      ],
      "execution_count": 68,
      "outputs": [
        {
          "output_type": "stream",
          "text": [
            "['__add__', '__class__', '__contains__', '__delattr__', '__dir__', '__doc__', '__eq__', '__format__', '__ge__', '__getattribute__', '__getitem__', '__getnewargs__', '__gt__', '__hash__', '__init__', '__init_subclass__', '__iter__', '__le__', '__len__', '__lt__', '__mod__', '__mul__', '__ne__', '__new__', '__reduce__', '__reduce_ex__', '__repr__', '__rmod__', '__rmul__', '__setattr__', '__sizeof__', '__str__', '__subclasshook__', 'capitalize', 'casefold', 'center', 'count', 'encode', 'endswith', 'expandtabs', 'find', 'format', 'format_map', 'index', 'isalnum', 'isalpha', 'isascii', 'isdecimal', 'isdigit', 'isidentifier', 'islower', 'isnumeric', 'isprintable', 'isspace', 'istitle', 'isupper', 'join', 'ljust', 'lower', 'lstrip', 'maketrans', 'partition', 'replace', 'rfind', 'rindex', 'rjust', 'rpartition', 'rsplit', 'rstrip', 'split', 'splitlines', 'startswith', 'strip', 'swapcase', 'title', 'translate', 'upper', 'zfill']\n"
          ],
          "name": "stdout"
        }
      ]
    },
    {
      "cell_type": "code",
      "metadata": {
        "colab": {
          "base_uri": "https://localhost:8080/"
        },
        "id": "UjciyWj5M5Em",
        "outputId": "32a73683-c875-4fb1-8341-a274a2b04a5c"
      },
      "source": [
        "ad = \"elma\"\n",
        "print(ad.upper())"
      ],
      "execution_count": 75,
      "outputs": [
        {
          "output_type": "stream",
          "text": [
            "ELMA\n"
          ],
          "name": "stdout"
        }
      ]
    },
    {
      "cell_type": "code",
      "metadata": {
        "colab": {
          "base_uri": "https://localhost:8080/"
        },
        "id": "z1mD9YlINdnt",
        "outputId": "2ae5e146-7a7f-442a-aad1-bc144ea8ead5"
      },
      "source": [
        "ad = input(\"Adını gir:\")\n",
        "print(\"Hoşgeldin\", ad.upper())"
      ],
      "execution_count": 76,
      "outputs": [
        {
          "output_type": "stream",
          "text": [
            "Adını gir:keMaletTin\n",
            "Hoşgeldin KEMALETTIN\n"
          ],
          "name": "stdout"
        }
      ]
    },
    {
      "cell_type": "code",
      "metadata": {
        "colab": {
          "base_uri": "https://localhost:8080/"
        },
        "id": "IZ5Ju5Y2NspL",
        "outputId": "779f41d2-6f63-4282-ea35-a8c0f4128bf8"
      },
      "source": [
        "metin = \"meryem su\"\n",
        "print(\"hoşgeldin\", metin.title())"
      ],
      "execution_count": 78,
      "outputs": [
        {
          "output_type": "stream",
          "text": [
            "hoşgeldin Meryem Su\n"
          ],
          "name": "stdout"
        }
      ]
    }
  ]
}