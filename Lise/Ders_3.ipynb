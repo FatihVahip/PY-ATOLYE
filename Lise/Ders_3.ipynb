{
  "nbformat": 4,
  "nbformat_minor": 0,
  "metadata": {
    "colab": {
      "name": "Ders-3.ipynb",
      "provenance": []
    },
    "kernelspec": {
      "name": "python3",
      "display_name": "Python 3"
    },
    "language_info": {
      "name": "python"
    }
  },
  "cells": [
    {
      "cell_type": "code",
      "metadata": {
        "id": "OMie7PQqQFvy"
      },
      "source": [
        "#bool veri tipi...True, False"
      ],
      "execution_count": null,
      "outputs": []
    },
    {
      "cell_type": "code",
      "metadata": {
        "id": "JrPU877kQSUh"
      },
      "source": [
        "#karşılaştırma operatörleri....<,>,<=,>= ,!=, =="
      ],
      "execution_count": null,
      "outputs": []
    },
    {
      "cell_type": "code",
      "metadata": {
        "colab": {
          "base_uri": "https://localhost:8080/"
        },
        "id": "oadS63g-QcA4",
        "outputId": "817cc4ba-33e6-4379-cf81-dba3ad8c4caf"
      },
      "source": [
        "5>3"
      ],
      "execution_count": 1,
      "outputs": [
        {
          "output_type": "execute_result",
          "data": {
            "text/plain": [
              "True"
            ]
          },
          "metadata": {
            "tags": []
          },
          "execution_count": 1
        }
      ]
    },
    {
      "cell_type": "code",
      "metadata": {
        "colab": {
          "base_uri": "https://localhost:8080/"
        },
        "id": "o09vH_WHRHXp",
        "outputId": "fc47d0f5-9bd4-4975-b624-9ffe25cc137d"
      },
      "source": [
        "4==4"
      ],
      "execution_count": 8,
      "outputs": [
        {
          "output_type": "execute_result",
          "data": {
            "text/plain": [
              "True"
            ]
          },
          "metadata": {
            "tags": []
          },
          "execution_count": 8
        }
      ]
    },
    {
      "cell_type": "code",
      "metadata": {
        "colab": {
          "base_uri": "https://localhost:8080/"
        },
        "id": "WiBoCdlORJoQ",
        "outputId": "2c4477ef-2b0c-48a7-a1c2-7c46697f4582"
      },
      "source": [
        "4==6"
      ],
      "execution_count": 9,
      "outputs": [
        {
          "output_type": "execute_result",
          "data": {
            "text/plain": [
              "False"
            ]
          },
          "metadata": {
            "tags": []
          },
          "execution_count": 9
        }
      ]
    },
    {
      "cell_type": "code",
      "metadata": {
        "id": "ISq-clWhRMcp"
      },
      "source": [
        "#birleştirme operatörleri.....ve,veya,değil....and,or,not..."
      ],
      "execution_count": null,
      "outputs": []
    },
    {
      "cell_type": "code",
      "metadata": {
        "colab": {
          "base_uri": "https://localhost:8080/"
        },
        "id": "lveAXojLRUIq",
        "outputId": "37f589ee-2af4-4bd3-b196-5bfb362ebff8"
      },
      "source": [
        "5>3 and 6>4"
      ],
      "execution_count": 10,
      "outputs": [
        {
          "output_type": "execute_result",
          "data": {
            "text/plain": [
              "True"
            ]
          },
          "metadata": {
            "tags": []
          },
          "execution_count": 10
        }
      ]
    },
    {
      "cell_type": "code",
      "metadata": {
        "colab": {
          "base_uri": "https://localhost:8080/"
        },
        "id": "yzI41vr4RX7N",
        "outputId": "28768a50-73a5-466a-de0d-123c539a2d5f"
      },
      "source": [
        "5>3 and 6<4"
      ],
      "execution_count": 13,
      "outputs": [
        {
          "output_type": "execute_result",
          "data": {
            "text/plain": [
              "1"
            ]
          },
          "metadata": {
            "tags": []
          },
          "execution_count": 13
        }
      ]
    },
    {
      "cell_type": "code",
      "metadata": {
        "colab": {
          "base_uri": "https://localhost:8080/"
        },
        "id": "d7K4UFI2R4if",
        "outputId": "65aaaaf9-147b-4d8f-b115-1b9d3c179438"
      },
      "source": [
        "5.9>5 or 5>8"
      ],
      "execution_count": 20,
      "outputs": [
        {
          "output_type": "execute_result",
          "data": {
            "text/plain": [
              "True"
            ]
          },
          "metadata": {
            "tags": []
          },
          "execution_count": 20
        }
      ]
    },
    {
      "cell_type": "code",
      "metadata": {
        "colab": {
          "base_uri": "https://localhost:8080/"
        },
        "id": "UrG8XtZcSZDf",
        "outputId": "35c9880f-a02a-44ee-b1c0-5a09b3f3a8e4"
      },
      "source": [
        "(7.9>8 or 5.8<5) and (2.78>4 and 4.8>3)"
      ],
      "execution_count": 21,
      "outputs": [
        {
          "output_type": "execute_result",
          "data": {
            "text/plain": [
              "False"
            ]
          },
          "metadata": {
            "tags": []
          },
          "execution_count": 21
        }
      ]
    },
    {
      "cell_type": "code",
      "metadata": {
        "colab": {
          "base_uri": "https://localhost:8080/"
        },
        "id": "vnc-lpaNSq6o",
        "outputId": "d0eabf56-be31-4886-e287-98472279ba39"
      },
      "source": [
        "6>8"
      ],
      "execution_count": 22,
      "outputs": [
        {
          "output_type": "execute_result",
          "data": {
            "text/plain": [
              "False"
            ]
          },
          "metadata": {
            "tags": []
          },
          "execution_count": 22
        }
      ]
    },
    {
      "cell_type": "code",
      "metadata": {
        "colab": {
          "base_uri": "https://localhost:8080/"
        },
        "id": "Mx41hYyQSuAP",
        "outputId": "91fb063f-7046-4556-8b6a-92dd055b383f"
      },
      "source": [
        "not 6>8"
      ],
      "execution_count": 25,
      "outputs": [
        {
          "output_type": "execute_result",
          "data": {
            "text/plain": [
              "True"
            ]
          },
          "metadata": {
            "tags": []
          },
          "execution_count": 25
        }
      ]
    },
    {
      "cell_type": "code",
      "metadata": {
        "colab": {
          "base_uri": "https://localhost:8080/"
        },
        "id": "NcNMxjobS6jK",
        "outputId": "dbbb221a-f5b4-41d4-df4e-8941dcf624ad"
      },
      "source": [
        "4 != 5"
      ],
      "execution_count": 26,
      "outputs": [
        {
          "output_type": "execute_result",
          "data": {
            "text/plain": [
              "True"
            ]
          },
          "metadata": {
            "tags": []
          },
          "execution_count": 26
        }
      ]
    },
    {
      "cell_type": "code",
      "metadata": {
        "id": "G2aKcMXFS-vx"
      },
      "source": [
        "#koşul durumları...if elif,else....."
      ],
      "execution_count": null,
      "outputs": []
    },
    {
      "cell_type": "code",
      "metadata": {
        "colab": {
          "base_uri": "https://localhost:8080/"
        },
        "id": "VMCfp9SxTJKv",
        "outputId": "b2abcfc3-94db-47bf-c3c2-154cf0d137d7"
      },
      "source": [
        "#yaş kontrolü yapan program\n",
        "\n",
        "yas = int(input(\"Yaşını gir: \"))\n",
        "ad = input(\"Adını gir: \")\n",
        "\n",
        "if yas >=18:\n",
        "  print(\"Hoşgeldin\", ad)\n",
        "else:\n",
        "  print(\"Mallesef bu filmi izlyemezsin...:)\")\n"
      ],
      "execution_count": 29,
      "outputs": [
        {
          "output_type": "stream",
          "text": [
            "Yaşını gir: 23\n",
            "Adını gir: Arda\n",
            "Hoşgeldin Arda\n"
          ],
          "name": "stdout"
        }
      ]
    },
    {
      "cell_type": "code",
      "metadata": {
        "colab": {
          "base_uri": "https://localhost:8080/"
        },
        "id": "1gXTG-UNTwWo",
        "outputId": "2e13a37b-cb4b-4e3d-c251-cbd6200d64b7"
      },
      "source": [
        "#vücut kitle indeksini hesaplayan program\n",
        "kilo = float(input(\"kilonuzu giriniz(kg): \"))\n",
        "boy = float(input(\"Boyunuzu giriniz(m): \"))\n",
        "vki = float(kilo/(boy**2))\n",
        "if vki < 18.5:\n",
        "  print(\"VKİ:\", vki, \"çok zayıfsın\")\n",
        "elif 18.5 <= vki < 25: \n",
        "  print(\"VKİ:\", vki, \"Normal kilodasın\")\n",
        "elif 25 <= vki < 30: \n",
        "  print(\"VKİ:\", vki, \"Fazla kilodasın\")\n",
        "elif 30 <= vki < 40: \n",
        "  print(\"VKİ:\", vki, \"Malesef obezsin...az ye:)\")\n",
        "else:\n",
        "  print(\"morbid obez durumu var..:)\")"
      ],
      "execution_count": 39,
      "outputs": [
        {
          "output_type": "stream",
          "text": [
            "kilonuzu giriniz(kg): 70\n",
            "Boyunuzu giriniz(m): 1.90\n",
            "VKİ: 19.390581717451525 Normal kilodasın\n"
          ],
          "name": "stdout"
        }
      ]
    },
    {
      "cell_type": "code",
      "metadata": {
        "colab": {
          "base_uri": "https://localhost:8080/"
        },
        "id": "Aj_fu7nKXBGf",
        "outputId": "2e2a7835-7248-44bc-e498-6b6a478c2938"
      },
      "source": [
        "#küçük hesap makinası....\n",
        "\n",
        "islem = input(\"Toplama için:1, çıkarma için:2, Bölme için:3 Çarpma için 4 e basınız: \")\n",
        "\n",
        "if islem ==\"1\":\n",
        "  print(\"Toplama işlemi seçildi....\")\n",
        "  a = int(input(\"Birinci sayıyı gir: \"))\n",
        "  b = int(input(\"İkinci sayıyı gir: \"))\n",
        "  print(\"girdiğin sayılar: {}, {}. Toplamları: {} \".format(a,b,a+b))\n",
        "elif islem ==\"2\":\n",
        "  print(\"Çıkarma işlemi seçildi....\")\n",
        "  a = int(input(\"Birinci sayıyı gir: \"))\n",
        "  b = int(input(\"İkinci sayıyı gir: \"))\n",
        "  print(\"girdiğin sayılar: {}, {}. Farkları: {} \".format(a,b,a-b))\n",
        "elif islem ==\"3\":\n",
        "  print(\"Bölme işlemi seçildi....\")\n",
        "  a = int(input(\"Birinci sayıyı gir: \"))\n",
        "  b = int(input(\"İkinci sayıyı gir: \"))\n",
        "  print(\"girdiğin sayılar: {}, {}. Bölümleri: {} \".format(a,b,a/b))\n",
        "elif islem ==\"4\":\n",
        "  print(\"Çarpma işlemi seçildi....\")\n",
        "  a = int(input(\"Birinci sayıyı gir: \"))\n",
        "  b = int(input(\"İkinci sayıyı gir: \"))\n",
        "  print(\"girdiğin sayılar: {}, {}. Çarpımları: {} \".format(a,b,a*b))\n",
        "\n",
        "else:\n",
        "  print(\"Geçerli bir, işlem seçiniz lütfen...!\")"
      ],
      "execution_count": 41,
      "outputs": [
        {
          "output_type": "stream",
          "text": [
            "Toplama için:1, çıkarma için:2, Bölme için:3 Çarpma için 4 e basınız: 8\n",
            "Geçerli bir, işlem seçiniz lütfen...!\n"
          ],
          "name": "stdout"
        }
      ]
    }
  ]
}