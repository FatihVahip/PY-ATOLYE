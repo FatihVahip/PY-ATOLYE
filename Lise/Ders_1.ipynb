{
  "nbformat": 4,
  "nbformat_minor": 0,
  "metadata": {
    "colab": {
      "name": "Ders-1.ipynb",
      "provenance": []
    },
    "kernelspec": {
      "name": "python3",
      "display_name": "Python 3"
    },
    "language_info": {
      "name": "python"
    }
  },
  "cells": [
    {
      "cell_type": "code",
      "metadata": {
        "id": "DxUCcbiLFJ7f"
      },
      "source": [
        "#Sayı veri Tipleri---->integer, float"
      ],
      "execution_count": null,
      "outputs": []
    },
    {
      "cell_type": "code",
      "metadata": {
        "colab": {
          "base_uri": "https://localhost:8080/"
        },
        "id": "QAa5OjyFFbMm",
        "outputId": "14f873b9-7cd5-4d97-8123-8bd709f2928e"
      },
      "source": [
        "5+5"
      ],
      "execution_count": 1,
      "outputs": [
        {
          "output_type": "execute_result",
          "data": {
            "text/plain": [
              "10"
            ]
          },
          "metadata": {
            "tags": []
          },
          "execution_count": 1
        }
      ]
    },
    {
      "cell_type": "code",
      "metadata": {
        "colab": {
          "base_uri": "https://localhost:8080/"
        },
        "id": "KKDL8vuSFm-Y",
        "outputId": "23939bcd-a302-45c0-83e2-06aa262e2545"
      },
      "source": [
        "6*8"
      ],
      "execution_count": 2,
      "outputs": [
        {
          "output_type": "execute_result",
          "data": {
            "text/plain": [
              "48"
            ]
          },
          "metadata": {
            "tags": []
          },
          "execution_count": 2
        }
      ]
    },
    {
      "cell_type": "code",
      "metadata": {
        "colab": {
          "base_uri": "https://localhost:8080/"
        },
        "id": "Z_0Wg2etFpk2",
        "outputId": "9a56b674-7943-4594-85be-f75e126d6c0f"
      },
      "source": [
        "6.6+5"
      ],
      "execution_count": 3,
      "outputs": [
        {
          "output_type": "execute_result",
          "data": {
            "text/plain": [
              "11.6"
            ]
          },
          "metadata": {
            "tags": []
          },
          "execution_count": 3
        }
      ]
    },
    {
      "cell_type": "code",
      "metadata": {
        "colab": {
          "base_uri": "https://localhost:8080/"
        },
        "id": "2WUWsk4cFr1l",
        "outputId": "70dd3bd6-012d-41a2-a385-78b105fb6de6"
      },
      "source": [
        "6-3"
      ],
      "execution_count": 4,
      "outputs": [
        {
          "output_type": "execute_result",
          "data": {
            "text/plain": [
              "3"
            ]
          },
          "metadata": {
            "tags": []
          },
          "execution_count": 4
        }
      ]
    },
    {
      "cell_type": "code",
      "metadata": {
        "id": "BTV0UgTuFtOR"
      },
      "source": [
        "#Değişken"
      ],
      "execution_count": null,
      "outputs": []
    },
    {
      "cell_type": "code",
      "metadata": {
        "colab": {
          "base_uri": "https://localhost:8080/"
        },
        "id": "chgzoZ0pF02v",
        "outputId": "1bc3964a-7fdb-4666-a7e6-d24371e2adf1"
      },
      "source": [
        "a = 4\n",
        "b = 79\n",
        "c = 80\n",
        "a+c*(c-b)"
      ],
      "execution_count": 10,
      "outputs": [
        {
          "output_type": "execute_result",
          "data": {
            "text/plain": [
              "84"
            ]
          },
          "metadata": {
            "tags": []
          },
          "execution_count": 10
        }
      ]
    },
    {
      "cell_type": "code",
      "metadata": {
        "id": "Dc6PwQiMGUoj"
      },
      "source": [
        "#Temel matematiksel operatörler\n",
        "#+,-,*,/, //, %"
      ],
      "execution_count": null,
      "outputs": []
    },
    {
      "cell_type": "code",
      "metadata": {
        "colab": {
          "base_uri": "https://localhost:8080/"
        },
        "id": "NJxm6_HZGdHM",
        "outputId": "c77945b6-f49f-4147-9b47-78b1f71412ac"
      },
      "source": [
        "10//4"
      ],
      "execution_count": 13,
      "outputs": [
        {
          "output_type": "execute_result",
          "data": {
            "text/plain": [
              "2"
            ]
          },
          "metadata": {
            "tags": []
          },
          "execution_count": 13
        }
      ]
    },
    {
      "cell_type": "code",
      "metadata": {
        "colab": {
          "base_uri": "https://localhost:8080/"
        },
        "id": "-oATfaaRGliw",
        "outputId": "f234baf4-d043-4058-9f00-9a197cddafa6"
      },
      "source": [
        "90%8"
      ],
      "execution_count": 16,
      "outputs": [
        {
          "output_type": "execute_result",
          "data": {
            "text/plain": [
              "2"
            ]
          },
          "metadata": {
            "tags": []
          },
          "execution_count": 16
        }
      ]
    },
    {
      "cell_type": "code",
      "metadata": {
        "id": "hOWpBw8FGvmu"
      },
      "source": [
        "#Karakter dizileri---String değerler..."
      ],
      "execution_count": null,
      "outputs": []
    },
    {
      "cell_type": "code",
      "metadata": {
        "colab": {
          "base_uri": "https://localhost:8080/",
          "height": 35
        },
        "id": "1SDl6mEwG6Om",
        "outputId": "5f4ce59b-a2f3-4111-9341-cdecc119937b"
      },
      "source": [
        "a = \"kedi\"\n",
        "a"
      ],
      "execution_count": 18,
      "outputs": [
        {
          "output_type": "execute_result",
          "data": {
            "application/vnd.google.colaboratory.intrinsic+json": {
              "type": "string"
            },
            "text/plain": [
              "'kedi'"
            ]
          },
          "metadata": {
            "tags": []
          },
          "execution_count": 18
        }
      ]
    },
    {
      "cell_type": "code",
      "metadata": {
        "colab": {
          "base_uri": "https://localhost:8080/"
        },
        "id": "vmxujNdhHEdJ",
        "outputId": "c423c5ef-ed70-4044-db18-e5393d122897"
      },
      "source": [
        "isim = \"Ahmet\"\n",
        "type(isim)"
      ],
      "execution_count": 19,
      "outputs": [
        {
          "output_type": "execute_result",
          "data": {
            "text/plain": [
              "str"
            ]
          },
          "metadata": {
            "tags": []
          },
          "execution_count": 19
        }
      ]
    },
    {
      "cell_type": "code",
      "metadata": {
        "colab": {
          "base_uri": "https://localhost:8080/"
        },
        "id": "fAnRrN9fHQbD",
        "outputId": "f2411d2c-78c0-4ffa-f77c-265135fa629c"
      },
      "source": [
        "dir(isim)"
      ],
      "execution_count": 20,
      "outputs": [
        {
          "output_type": "execute_result",
          "data": {
            "text/plain": [
              "['__add__',\n",
              " '__class__',\n",
              " '__contains__',\n",
              " '__delattr__',\n",
              " '__dir__',\n",
              " '__doc__',\n",
              " '__eq__',\n",
              " '__format__',\n",
              " '__ge__',\n",
              " '__getattribute__',\n",
              " '__getitem__',\n",
              " '__getnewargs__',\n",
              " '__gt__',\n",
              " '__hash__',\n",
              " '__init__',\n",
              " '__init_subclass__',\n",
              " '__iter__',\n",
              " '__le__',\n",
              " '__len__',\n",
              " '__lt__',\n",
              " '__mod__',\n",
              " '__mul__',\n",
              " '__ne__',\n",
              " '__new__',\n",
              " '__reduce__',\n",
              " '__reduce_ex__',\n",
              " '__repr__',\n",
              " '__rmod__',\n",
              " '__rmul__',\n",
              " '__setattr__',\n",
              " '__sizeof__',\n",
              " '__str__',\n",
              " '__subclasshook__',\n",
              " 'capitalize',\n",
              " 'casefold',\n",
              " 'center',\n",
              " 'count',\n",
              " 'encode',\n",
              " 'endswith',\n",
              " 'expandtabs',\n",
              " 'find',\n",
              " 'format',\n",
              " 'format_map',\n",
              " 'index',\n",
              " 'isalnum',\n",
              " 'isalpha',\n",
              " 'isascii',\n",
              " 'isdecimal',\n",
              " 'isdigit',\n",
              " 'isidentifier',\n",
              " 'islower',\n",
              " 'isnumeric',\n",
              " 'isprintable',\n",
              " 'isspace',\n",
              " 'istitle',\n",
              " 'isupper',\n",
              " 'join',\n",
              " 'ljust',\n",
              " 'lower',\n",
              " 'lstrip',\n",
              " 'maketrans',\n",
              " 'partition',\n",
              " 'replace',\n",
              " 'rfind',\n",
              " 'rindex',\n",
              " 'rjust',\n",
              " 'rpartition',\n",
              " 'rsplit',\n",
              " 'rstrip',\n",
              " 'split',\n",
              " 'splitlines',\n",
              " 'startswith',\n",
              " 'strip',\n",
              " 'swapcase',\n",
              " 'title',\n",
              " 'translate',\n",
              " 'upper',\n",
              " 'zfill']"
            ]
          },
          "metadata": {
            "tags": []
          },
          "execution_count": 20
        }
      ]
    },
    {
      "cell_type": "code",
      "metadata": {
        "colab": {
          "base_uri": "https://localhost:8080/"
        },
        "id": "TxBq6BQSHeVX",
        "outputId": "f8edc8fe-09cd-4453-e34d-af9b265a208b"
      },
      "source": [
        "help(isim.lower)"
      ],
      "execution_count": 26,
      "outputs": [
        {
          "output_type": "stream",
          "text": [
            "Help on built-in function lower:\n",
            "\n",
            "lower() method of builtins.str instance\n",
            "    Return a copy of the string converted to lowercase.\n",
            "\n"
          ],
          "name": "stdout"
        }
      ]
    },
    {
      "cell_type": "code",
      "metadata": {
        "colab": {
          "base_uri": "https://localhost:8080/",
          "height": 35
        },
        "id": "O1MBV3OhHsk-",
        "outputId": "5b50fee0-96e1-4dcb-a029-d62922a12037"
      },
      "source": [
        "isim"
      ],
      "execution_count": 24,
      "outputs": [
        {
          "output_type": "execute_result",
          "data": {
            "application/vnd.google.colaboratory.intrinsic+json": {
              "type": "string"
            },
            "text/plain": [
              "'Ahmet'"
            ]
          },
          "metadata": {
            "tags": []
          },
          "execution_count": 24
        }
      ]
    },
    {
      "cell_type": "code",
      "metadata": {
        "colab": {
          "base_uri": "https://localhost:8080/",
          "height": 35
        },
        "id": "D5nmRUeVHsCw",
        "outputId": "a595178f-462c-433b-c25f-6cf51751421f"
      },
      "source": [
        "isim.lower()"
      ],
      "execution_count": 25,
      "outputs": [
        {
          "output_type": "execute_result",
          "data": {
            "application/vnd.google.colaboratory.intrinsic+json": {
              "type": "string"
            },
            "text/plain": [
              "'ahmet'"
            ]
          },
          "metadata": {
            "tags": []
          },
          "execution_count": 25
        }
      ]
    },
    {
      "cell_type": "code",
      "metadata": {
        "colab": {
          "base_uri": "https://localhost:8080/",
          "height": 35
        },
        "id": "QyeSGKStIAbJ",
        "outputId": "2af44844-da39-41e7-8947-be9153413122"
      },
      "source": [
        "isim.upper()"
      ],
      "execution_count": 28,
      "outputs": [
        {
          "output_type": "execute_result",
          "data": {
            "application/vnd.google.colaboratory.intrinsic+json": {
              "type": "string"
            },
            "text/plain": [
              "'AHMET'"
            ]
          },
          "metadata": {
            "tags": []
          },
          "execution_count": 28
        }
      ]
    },
    {
      "cell_type": "code",
      "metadata": {
        "colab": {
          "base_uri": "https://localhost:8080/"
        },
        "id": "zGPnvebYIJnY",
        "outputId": "623ecaff-045a-4253-911e-7bf074c1ea19"
      },
      "source": [
        "isim = \"vEyseL\"\n",
        "soyad = \"kAya\"\n",
        "print(isim.upper(), soyad.upper())"
      ],
      "execution_count": 30,
      "outputs": [
        {
          "output_type": "stream",
          "text": [
            "VEYSEL KAYA\n"
          ],
          "name": "stdout"
        }
      ]
    },
    {
      "cell_type": "code",
      "metadata": {
        "colab": {
          "base_uri": "https://localhost:8080/",
          "height": 35
        },
        "id": "EBQWa0txInfc",
        "outputId": "7e020eb5-59f9-4795-eb13-ff07828753dd"
      },
      "source": [
        "isim = \"Kemalattin\"\n",
        "isim[0]"
      ],
      "execution_count": 31,
      "outputs": [
        {
          "output_type": "execute_result",
          "data": {
            "application/vnd.google.colaboratory.intrinsic+json": {
              "type": "string"
            },
            "text/plain": [
              "'K'"
            ]
          },
          "metadata": {
            "tags": []
          },
          "execution_count": 31
        }
      ]
    },
    {
      "cell_type": "code",
      "metadata": {
        "colab": {
          "base_uri": "https://localhost:8080/",
          "height": 35
        },
        "id": "k_6-2S_LI10d",
        "outputId": "b1086e65-9cf5-4027-a0e5-acb0b0c8274a"
      },
      "source": [
        "isim[4]"
      ],
      "execution_count": 32,
      "outputs": [
        {
          "output_type": "execute_result",
          "data": {
            "application/vnd.google.colaboratory.intrinsic+json": {
              "type": "string"
            },
            "text/plain": [
              "'l'"
            ]
          },
          "metadata": {
            "tags": []
          },
          "execution_count": 32
        }
      ]
    },
    {
      "cell_type": "code",
      "metadata": {
        "colab": {
          "base_uri": "https://localhost:8080/",
          "height": 35
        },
        "id": "538dw_IhI7eA",
        "outputId": "54f077ce-df22-4b8f-8a51-410c419a7eef"
      },
      "source": [
        "isim[:2]"
      ],
      "execution_count": 33,
      "outputs": [
        {
          "output_type": "execute_result",
          "data": {
            "application/vnd.google.colaboratory.intrinsic+json": {
              "type": "string"
            },
            "text/plain": [
              "'Ke'"
            ]
          },
          "metadata": {
            "tags": []
          },
          "execution_count": 33
        }
      ]
    },
    {
      "cell_type": "code",
      "metadata": {
        "colab": {
          "base_uri": "https://localhost:8080/",
          "height": 35
        },
        "id": "1RmOeahqI-1o",
        "outputId": "cd543978-479c-45f8-ea81-d1cf9cf747ce"
      },
      "source": [
        "isim[2:]"
      ],
      "execution_count": 34,
      "outputs": [
        {
          "output_type": "execute_result",
          "data": {
            "application/vnd.google.colaboratory.intrinsic+json": {
              "type": "string"
            },
            "text/plain": [
              "'malattin'"
            ]
          },
          "metadata": {
            "tags": []
          },
          "execution_count": 34
        }
      ]
    },
    {
      "cell_type": "code",
      "metadata": {
        "colab": {
          "base_uri": "https://localhost:8080/",
          "height": 35
        },
        "id": "7RMLkm3oJMqJ",
        "outputId": "9d49f24a-e20e-49aa-9f45-50e8762f4dce"
      },
      "source": [
        "isim[2:6]"
      ],
      "execution_count": 36,
      "outputs": [
        {
          "output_type": "execute_result",
          "data": {
            "application/vnd.google.colaboratory.intrinsic+json": {
              "type": "string"
            },
            "text/plain": [
              "'mala'"
            ]
          },
          "metadata": {
            "tags": []
          },
          "execution_count": 36
        }
      ]
    },
    {
      "cell_type": "code",
      "metadata": {
        "colab": {
          "base_uri": "https://localhost:8080/",
          "height": 35
        },
        "id": "RN2hVM_vJTMH",
        "outputId": "1f848757-edd8-4f9e-e185-5d71d0492eee"
      },
      "source": [
        "isim[-1]"
      ],
      "execution_count": 38,
      "outputs": [
        {
          "output_type": "execute_result",
          "data": {
            "application/vnd.google.colaboratory.intrinsic+json": {
              "type": "string"
            },
            "text/plain": [
              "'n'"
            ]
          },
          "metadata": {
            "tags": []
          },
          "execution_count": 38
        }
      ]
    },
    {
      "cell_type": "code",
      "metadata": {
        "id": "9G4L1DHtJbN5"
      },
      "source": [
        "#çift tırnak, tek tırnak, üç tırnak kullanımı"
      ],
      "execution_count": null,
      "outputs": []
    },
    {
      "cell_type": "code",
      "metadata": {
        "colab": {
          "base_uri": "https://localhost:8080/",
          "height": 35
        },
        "id": "Z0VDXaNFJson",
        "outputId": "15c0991f-1b9b-4ea0-bdff-b2645d4d57e3"
      },
      "source": [
        "a = \"istanbul\"\n",
        "b = \"istanbul'da\"\n",
        "c = 'istanbul'da'"
      ],
      "execution_count": 42,
      "outputs": [
        {
          "output_type": "execute_result",
          "data": {
            "application/vnd.google.colaboratory.intrinsic+json": {
              "type": "string"
            },
            "text/plain": [
              "\"istanbul'da\""
            ]
          },
          "metadata": {
            "tags": []
          },
          "execution_count": 42
        }
      ]
    },
    {
      "cell_type": "code",
      "metadata": {
        "id": "cU5YjqRJKBq9"
      },
      "source": [
        "#veri tipi dönüştürme"
      ],
      "execution_count": null,
      "outputs": []
    },
    {
      "cell_type": "code",
      "metadata": {
        "colab": {
          "base_uri": "https://localhost:8080/"
        },
        "id": "Panx-coQKGNN",
        "outputId": "5ebe7aa4-be5f-4f78-8d06-f0f606b183e8"
      },
      "source": [
        "pi = 3.14\n",
        "\n",
        "pi"
      ],
      "execution_count": 43,
      "outputs": [
        {
          "output_type": "execute_result",
          "data": {
            "text/plain": [
              "3.14"
            ]
          },
          "metadata": {
            "tags": []
          },
          "execution_count": 43
        }
      ]
    },
    {
      "cell_type": "code",
      "metadata": {
        "colab": {
          "base_uri": "https://localhost:8080/"
        },
        "id": "iLVxS_4zKJ-0",
        "outputId": "a6c572b0-1807-4465-8f98-6d69edc13b05"
      },
      "source": [
        "pi = 3.147\n",
        "pi"
      ],
      "execution_count": 44,
      "outputs": [
        {
          "output_type": "execute_result",
          "data": {
            "text/plain": [
              "3.147"
            ]
          },
          "metadata": {
            "tags": []
          },
          "execution_count": 44
        }
      ]
    },
    {
      "cell_type": "code",
      "metadata": {
        "colab": {
          "base_uri": "https://localhost:8080/",
          "height": 35
        },
        "id": "bvrDd7crKRgp",
        "outputId": "e5ab489a-a17e-4108-b139-42ef6f8b023f"
      },
      "source": [
        "a = \"kedi\"\n",
        "b = \"elma\"\n",
        "\n",
        "a=\"reçel\"\n",
        "a"
      ],
      "execution_count": 46,
      "outputs": [
        {
          "output_type": "execute_result",
          "data": {
            "application/vnd.google.colaboratory.intrinsic+json": {
              "type": "string"
            },
            "text/plain": [
              "'reçel'"
            ]
          },
          "metadata": {
            "tags": []
          },
          "execution_count": 46
        }
      ]
    },
    {
      "cell_type": "code",
      "metadata": {
        "colab": {
          "base_uri": "https://localhost:8080/",
          "height": 35
        },
        "id": "fIYhgySrKgIv",
        "outputId": "d71759de-4d7f-4bce-d7b4-aa5f69ece655"
      },
      "source": [
        "sayi1 = \"45\"\n",
        "sayi2 = \"23\"\n",
        "\n",
        "sayi1+sayi2"
      ],
      "execution_count": 53,
      "outputs": [
        {
          "output_type": "execute_result",
          "data": {
            "application/vnd.google.colaboratory.intrinsic+json": {
              "type": "string"
            },
            "text/plain": [
              "'4523'"
            ]
          },
          "metadata": {
            "tags": []
          },
          "execution_count": 53
        }
      ]
    },
    {
      "cell_type": "code",
      "metadata": {
        "colab": {
          "base_uri": "https://localhost:8080/"
        },
        "id": "AVBZBA1AK5R0",
        "outputId": "2a4e383b-5997-4b3b-ecb7-4996c0512319"
      },
      "source": [
        "sayi1 = \"45\"\n",
        "sayi2 = \"23\"\n",
        "sayi1 = int(sayi1)\n",
        "sayi2 = int(sayi2)\n",
        "sayi1+sayi2"
      ],
      "execution_count": 54,
      "outputs": [
        {
          "output_type": "execute_result",
          "data": {
            "text/plain": [
              "68"
            ]
          },
          "metadata": {
            "tags": []
          },
          "execution_count": 54
        }
      ]
    },
    {
      "cell_type": "code",
      "metadata": {
        "id": "ADxmglmiLGYv"
      },
      "source": [
        "#print() fonksiyonu"
      ],
      "execution_count": null,
      "outputs": []
    },
    {
      "cell_type": "code",
      "metadata": {
        "colab": {
          "base_uri": "https://localhost:8080/"
        },
        "id": "szeMgiPtLN7O",
        "outputId": "3e3fae1e-8bf3-45c9-fe07-c2eb65510e33"
      },
      "source": [
        "isim = \"Zeynep\"\n",
        "print(isim)"
      ],
      "execution_count": 56,
      "outputs": [
        {
          "output_type": "stream",
          "text": [
            "Zeynep\n"
          ],
          "name": "stdout"
        }
      ]
    },
    {
      "cell_type": "code",
      "metadata": {
        "colab": {
          "base_uri": "https://localhost:8080/"
        },
        "id": "kRY4oF9OLbKu",
        "outputId": "af71b347-d98e-4404-baac-c4bbd8ba2780"
      },
      "source": [
        "isim = \"Ahmet\"\n",
        "print(\"Hoşgeldin, \"+ isim)"
      ],
      "execution_count": 59,
      "outputs": [
        {
          "output_type": "stream",
          "text": [
            "Hoşgeldin, Ahmet\n"
          ],
          "name": "stdout"
        }
      ]
    },
    {
      "cell_type": "code",
      "metadata": {
        "id": "UTj2fwDaLuJj"
      },
      "source": [
        "#input()---> fonksiyonu---> kullanıcıdan değer alan fonksiyon"
      ],
      "execution_count": null,
      "outputs": []
    },
    {
      "cell_type": "code",
      "metadata": {
        "colab": {
          "base_uri": "https://localhost:8080/"
        },
        "id": "FzkAinbSL1JR",
        "outputId": "a8b6c4b9-a5d6-493c-fd52-42ef4ec6ab6e"
      },
      "source": [
        "isim = input(\"Lütfen adını yaz: \")\n",
        "print(\"Hoşgeldin, \",isim)"
      ],
      "execution_count": 61,
      "outputs": [
        {
          "output_type": "stream",
          "text": [
            "Lütfen adını yaz: Veysel\n",
            "Hoşgeldin,  Veysel\n"
          ],
          "name": "stdout"
        }
      ]
    },
    {
      "cell_type": "code",
      "metadata": {
        "id": "_G2ZyT8dMFyk"
      },
      "source": [
        "#toplama işlemi yapan küçük program"
      ],
      "execution_count": null,
      "outputs": []
    },
    {
      "cell_type": "code",
      "metadata": {
        "colab": {
          "base_uri": "https://localhost:8080/"
        },
        "id": "xzN6YNwbMJJO",
        "outputId": "a45044c2-83e2-4e84-ea77-8f8c34d0ccd2"
      },
      "source": [
        "sayi1 = int(input(\"Birinici sayıyı gir: \"))\n",
        "sayi2 = int(input(\"İkinci sayyı gir: \"))\n",
        "toplam = sayi1+sayi2\n",
        "print(\"Giridiğin sayılar\", sayi1, sayi2, \"Toplamları: \",toplam)"
      ],
      "execution_count": 64,
      "outputs": [
        {
          "output_type": "stream",
          "text": [
            "Birinici sayıyı gir: 45678987654\n",
            "İkinci sayyı gir: 7654345678765432\n",
            "Giridiğin sayılar 45678987654 7654345678765432 Toplamları:  7654391357753086\n"
          ],
          "name": "stdout"
        }
      ]
    },
    {
      "cell_type": "code",
      "metadata": {
        "id": "sso9CYZeNCHV"
      },
      "source": [
        "#sep parametresi"
      ],
      "execution_count": null,
      "outputs": []
    },
    {
      "cell_type": "code",
      "metadata": {
        "colab": {
          "base_uri": "https://localhost:8080/"
        },
        "id": "zMlumlTsNFnD",
        "outputId": "b254bc14-4c9f-472e-aca6-024d32eae049"
      },
      "source": [
        "print(\"ARGEM\", \"Python\", \"Atölyesi\", sep=\"-\")"
      ],
      "execution_count": 70,
      "outputs": [
        {
          "output_type": "stream",
          "text": [
            "ARGEM-Python-Atölyesi\n"
          ],
          "name": "stdout"
        }
      ]
    },
    {
      "cell_type": "code",
      "metadata": {
        "id": "3sQS1B_rNjRJ"
      },
      "source": [
        "#format metodu"
      ],
      "execution_count": null,
      "outputs": []
    },
    {
      "cell_type": "code",
      "metadata": {
        "colab": {
          "base_uri": "https://localhost:8080/"
        },
        "id": "gwUdHYGINoeL",
        "outputId": "18aebe3a-7c59-44be-8b17-d3c964e634ee"
      },
      "source": [
        "sayi1 = int(input(\"Birinici sayıyı gir: \"))\n",
        "sayi2 = int(input(\"İkinci sayyı gir: \"))\n",
        "print(\"Giriğin birinci sayı {}, ikinci sayı {}. Toplamları: {} \".format(sayi1, sayi2, sayi1+sayi2))"
      ],
      "execution_count": 72,
      "outputs": [
        {
          "output_type": "stream",
          "text": [
            "Birinici sayıyı gir: 3\n",
            "İkinci sayyı gir: 6\n",
            "Giriğin birinci sayı 3, ikinci sayı 6. Toplamları: 9 \n"
          ],
          "name": "stdout"
        }
      ]
    },
    {
      "cell_type": "code",
      "metadata": {
        "colab": {
          "base_uri": "https://localhost:8080/"
        },
        "id": "Njey9YX7OEM_",
        "outputId": "89199abd-6d6e-46cd-b832-912ba368c9b3"
      },
      "source": [
        "sayi1 = int(input(\"Birinici sayıyı gir: \"))\n",
        "sayi2 = int(input(\"İkinci sayyı gir: \"))\n",
        "print(\"Giriğin birinci sayı {}, ikinci sayı {}. Çarpımları: {} \".format(sayi1, sayi2, sayi1*sayi2))"
      ],
      "execution_count": 73,
      "outputs": [
        {
          "output_type": "stream",
          "text": [
            "Birinici sayıyı gir: 10\n",
            "İkinci sayyı gir: 3\n",
            "Giriğin birinci sayı 10, ikinci sayı 3. Çarpımları: 30 \n"
          ],
          "name": "stdout"
        }
      ]
    },
    {
      "cell_type": "code",
      "metadata": {
        "colab": {
          "base_uri": "https://localhost:8080/"
        },
        "id": "mgwxAOPNOKwn",
        "outputId": "ba413f2c-4f13-4337-ae30-d4f0dcfda40e"
      },
      "source": [
        "sayi1 = int(input(\"Birinici sayıyı gir: \"))\n",
        "sayi2 = int(input(\"İkinci sayyı gir: \"))\n",
        "print(\"Giriğin taban {}, kuvvet {}. cevap: {} \".format(sayi1, sayi2, sayi1**sayi2))"
      ],
      "execution_count": 74,
      "outputs": [
        {
          "output_type": "stream",
          "text": [
            "Birinici sayıyı gir: 3\n",
            "İkinci sayyı gir: 4\n",
            "Giriğin taban 3, kuvvet 4. cevap: 81 \n"
          ],
          "name": "stdout"
        }
      ]
    },
    {
      "cell_type": "code",
      "metadata": {
        "colab": {
          "base_uri": "https://localhost:8080/"
        },
        "id": "Y2HNnZucOXj9",
        "outputId": "d05351c1-84f3-4194-9c1d-0c826c7facf8"
      },
      "source": [
        "isim = \"Murat\"\n",
        "yas = 20\n",
        "sinif = \"12A\"\n",
        "\n",
        "print(\"Merhaba {}. {} yaşındasın. Sınıfın: {} \". format(isim, yas, sinif))"
      ],
      "execution_count": 75,
      "outputs": [
        {
          "output_type": "stream",
          "text": [
            "Merhaba Murat. 20 yaşındasın. Sınıfın: 12A \n"
          ],
          "name": "stdout"
        }
      ]
    },
    {
      "cell_type": "code",
      "metadata": {
        "id": "krD0K9obOujh"
      },
      "source": [
        "#listeler....."
      ],
      "execution_count": null,
      "outputs": []
    },
    {
      "cell_type": "code",
      "metadata": {
        "colab": {
          "base_uri": "https://localhost:8080/"
        },
        "id": "nhmm-XijOyiu",
        "outputId": "3743d478-b092-412c-a854-64da114472f7"
      },
      "source": [
        "liste = [1,2,3,4,5,\"Kedi\",\"Ema\"]\n",
        "liste"
      ],
      "execution_count": 77,
      "outputs": [
        {
          "output_type": "execute_result",
          "data": {
            "text/plain": [
              "[1, 2, 3, 4, 5, 'Kedi', 'Ema']"
            ]
          },
          "metadata": {
            "tags": []
          },
          "execution_count": 77
        }
      ]
    },
    {
      "cell_type": "code",
      "metadata": {
        "colab": {
          "base_uri": "https://localhost:8080/"
        },
        "id": "8Nk4CoR9PHGU",
        "outputId": "0e34de1c-cdff-427f-a274-b86c5e8d72bb"
      },
      "source": [
        "type(liste)"
      ],
      "execution_count": 78,
      "outputs": [
        {
          "output_type": "execute_result",
          "data": {
            "text/plain": [
              "list"
            ]
          },
          "metadata": {
            "tags": []
          },
          "execution_count": 78
        }
      ]
    },
    {
      "cell_type": "code",
      "metadata": {
        "colab": {
          "base_uri": "https://localhost:8080/"
        },
        "id": "TBURE18RPLdL",
        "outputId": "15a48798-4ba4-4fb7-8644-475ff8e538fc"
      },
      "source": [
        "dir(liste)"
      ],
      "execution_count": 79,
      "outputs": [
        {
          "output_type": "execute_result",
          "data": {
            "text/plain": [
              "['__add__',\n",
              " '__class__',\n",
              " '__contains__',\n",
              " '__delattr__',\n",
              " '__delitem__',\n",
              " '__dir__',\n",
              " '__doc__',\n",
              " '__eq__',\n",
              " '__format__',\n",
              " '__ge__',\n",
              " '__getattribute__',\n",
              " '__getitem__',\n",
              " '__gt__',\n",
              " '__hash__',\n",
              " '__iadd__',\n",
              " '__imul__',\n",
              " '__init__',\n",
              " '__init_subclass__',\n",
              " '__iter__',\n",
              " '__le__',\n",
              " '__len__',\n",
              " '__lt__',\n",
              " '__mul__',\n",
              " '__ne__',\n",
              " '__new__',\n",
              " '__reduce__',\n",
              " '__reduce_ex__',\n",
              " '__repr__',\n",
              " '__reversed__',\n",
              " '__rmul__',\n",
              " '__setattr__',\n",
              " '__setitem__',\n",
              " '__sizeof__',\n",
              " '__str__',\n",
              " '__subclasshook__',\n",
              " 'append',\n",
              " 'clear',\n",
              " 'copy',\n",
              " 'count',\n",
              " 'extend',\n",
              " 'index',\n",
              " 'insert',\n",
              " 'pop',\n",
              " 'remove',\n",
              " 'reverse',\n",
              " 'sort']"
            ]
          },
          "metadata": {
            "tags": []
          },
          "execution_count": 79
        }
      ]
    },
    {
      "cell_type": "code",
      "metadata": {
        "colab": {
          "base_uri": "https://localhost:8080/"
        },
        "id": "1WkZQ2SyPTOG",
        "outputId": "effecf57-bca1-49a9-93e6-199c7e160cb8"
      },
      "source": [
        "help(liste.append)"
      ],
      "execution_count": 80,
      "outputs": [
        {
          "output_type": "stream",
          "text": [
            "Help on built-in function append:\n",
            "\n",
            "append(object, /) method of builtins.list instance\n",
            "    Append object to the end of the list.\n",
            "\n"
          ],
          "name": "stdout"
        }
      ]
    },
    {
      "cell_type": "code",
      "metadata": {
        "colab": {
          "base_uri": "https://localhost:8080/"
        },
        "id": "kD8Oq6oIPY3H",
        "outputId": "c8685f98-6b82-4954-a2bd-11a69bd5ebae"
      },
      "source": [
        "liste"
      ],
      "execution_count": 82,
      "outputs": [
        {
          "output_type": "execute_result",
          "data": {
            "text/plain": [
              "[1, 2, 3, 4, 5, 'Kedi', 'Ema']"
            ]
          },
          "metadata": {
            "tags": []
          },
          "execution_count": 82
        }
      ]
    },
    {
      "cell_type": "code",
      "metadata": {
        "colab": {
          "base_uri": "https://localhost:8080/"
        },
        "id": "-yPfNu6bPZqF",
        "outputId": "5c7e5c6b-69ac-4270-c375-5618d62f43ab"
      },
      "source": [
        "liste.append(\"muz\")\n",
        "liste"
      ],
      "execution_count": 85,
      "outputs": [
        {
          "output_type": "execute_result",
          "data": {
            "text/plain": [
              "[1, 2, 3, 4, 5, 'Kedi', 'Ema', 'muz', 'muz', 'muz']"
            ]
          },
          "metadata": {
            "tags": []
          },
          "execution_count": 85
        }
      ]
    },
    {
      "cell_type": "code",
      "metadata": {
        "colab": {
          "base_uri": "https://localhost:8080/"
        },
        "id": "G3iHemTRPle4",
        "outputId": "9b67c286-a538-4fc1-bc39-1271b33423f4"
      },
      "source": [
        "liste.pop()\n",
        "liste"
      ],
      "execution_count": 87,
      "outputs": [
        {
          "output_type": "execute_result",
          "data": {
            "text/plain": [
              "[1, 2, 3, 4, 5, 'Kedi', 'Ema', 'muz']"
            ]
          },
          "metadata": {
            "tags": []
          },
          "execution_count": 87
        }
      ]
    },
    {
      "cell_type": "code",
      "metadata": {
        "id": "RXQzBPUdPuCL"
      },
      "source": [
        "liste.insert(3,\"Kabak\")\n"
      ],
      "execution_count": 89,
      "outputs": []
    },
    {
      "cell_type": "code",
      "metadata": {
        "colab": {
          "base_uri": "https://localhost:8080/"
        },
        "id": "5dVcOiNLP5aT",
        "outputId": "b8bae5f4-227e-4443-e12f-057cdfab1667"
      },
      "source": [
        "liste"
      ],
      "execution_count": 90,
      "outputs": [
        {
          "output_type": "execute_result",
          "data": {
            "text/plain": [
              "[1, 2, 3, 'Kabak', 4, 5, 'Kedi', 'Ema', 'muz']"
            ]
          },
          "metadata": {
            "tags": []
          },
          "execution_count": 90
        }
      ]
    },
    {
      "cell_type": "code",
      "metadata": {
        "id": "j56drCeyP_Ym"
      },
      "source": [
        "liste.remove(\"Kedi\")"
      ],
      "execution_count": 92,
      "outputs": []
    },
    {
      "cell_type": "code",
      "metadata": {
        "colab": {
          "base_uri": "https://localhost:8080/"
        },
        "id": "sJjEX8R5QHJ2",
        "outputId": "44120c36-6ead-4710-8d43-0efe66fbf17c"
      },
      "source": [
        "liste"
      ],
      "execution_count": 93,
      "outputs": [
        {
          "output_type": "execute_result",
          "data": {
            "text/plain": [
              "[1, 2, 3, 'Kabak', 4, 5, 'Ema', 'muz']"
            ]
          },
          "metadata": {
            "tags": []
          },
          "execution_count": 93
        }
      ]
    },
    {
      "cell_type": "code",
      "metadata": {
        "colab": {
          "base_uri": "https://localhost:8080/"
        },
        "id": "dxI0mG7zQV5w",
        "outputId": "0b9eb277-87b6-4ec4-f6b0-b51364ca156f"
      },
      "source": [
        "liste2 = [0,1,2,3,4,5,6,7,8,9]\n",
        "len(liste2)"
      ],
      "execution_count": 95,
      "outputs": [
        {
          "output_type": "execute_result",
          "data": {
            "text/plain": [
              "10"
            ]
          },
          "metadata": {
            "tags": []
          },
          "execution_count": 95
        }
      ]
    },
    {
      "cell_type": "code",
      "metadata": {
        "colab": {
          "base_uri": "https://localhost:8080/"
        },
        "id": "_L0w8cFsQj4i",
        "outputId": "94083382-277e-423f-9d10-12428226aad3"
      },
      "source": [
        "liste = [33,5,6,7,8,933,[1,2,3,[999,5,6]], 9, [3]]\n",
        "liste[0]"
      ],
      "execution_count": 98,
      "outputs": [
        {
          "output_type": "execute_result",
          "data": {
            "text/plain": [
              "33"
            ]
          },
          "metadata": {
            "tags": []
          },
          "execution_count": 98
        }
      ]
    },
    {
      "cell_type": "code",
      "metadata": {
        "colab": {
          "base_uri": "https://localhost:8080/"
        },
        "id": "XSgsPa09Q-K8",
        "outputId": "3e5bddef-8a71-4065-80ea-7699a7fd5e65"
      },
      "source": [
        "liste[6][3][0]"
      ],
      "execution_count": 99,
      "outputs": [
        {
          "output_type": "execute_result",
          "data": {
            "text/plain": [
              "999"
            ]
          },
          "metadata": {
            "tags": []
          },
          "execution_count": 99
        }
      ]
    },
    {
      "cell_type": "code",
      "metadata": {
        "colab": {
          "base_uri": "https://localhost:8080/"
        },
        "id": "vG8XXGSnRPtT",
        "outputId": "e1631d5f-c01d-4509-cdb3-9803e8ee62a7"
      },
      "source": [
        "liste1 = [1,2,3,4]\n",
        "liste2 = [4,5,6]\n",
        "liste3 = liste1+liste2\n",
        "liste3"
      ],
      "execution_count": 102,
      "outputs": [
        {
          "output_type": "execute_result",
          "data": {
            "text/plain": [
              "[1, 2, 3, 4, 4, 5, 6]"
            ]
          },
          "metadata": {
            "tags": []
          },
          "execution_count": 102
        }
      ]
    },
    {
      "cell_type": "code",
      "metadata": {
        "colab": {
          "base_uri": "https://localhost:8080/"
        },
        "id": "3VIX1VHZRo0_",
        "outputId": "cb4a2a31-396e-4002-9146-817ec6b75717"
      },
      "source": [
        "liste = [1,2,3,4,5,6,6,6,6,6,6,7,7,7,8,8,8]\n",
        "liste.count(7)"
      ],
      "execution_count": 104,
      "outputs": [
        {
          "output_type": "execute_result",
          "data": {
            "text/plain": [
              "3"
            ]
          },
          "metadata": {
            "tags": []
          },
          "execution_count": 104
        }
      ]
    },
    {
      "cell_type": "code",
      "metadata": {
        "id": "hK6nonmQR2WO"
      },
      "source": [
        "liste = [1,2,345,6,7,89,99,777,888,5,4444,34,555,66]\n"
      ],
      "execution_count": 110,
      "outputs": []
    },
    {
      "cell_type": "code",
      "metadata": {
        "colab": {
          "base_uri": "https://localhost:8080/"
        },
        "id": "yMMwnzEzSG65",
        "outputId": "e03440c9-eef8-42f7-e7bc-fe2da3e4a16c"
      },
      "source": [
        "liste.sort()\n",
        "liste"
      ],
      "execution_count": 119,
      "outputs": [
        {
          "output_type": "execute_result",
          "data": {
            "text/plain": [
              "[1, 2, 5, 6, 7, 34, 66, 89, 99, 345, 555, 777, 888, 4444]"
            ]
          },
          "metadata": {
            "tags": []
          },
          "execution_count": 119
        }
      ]
    },
    {
      "cell_type": "code",
      "metadata": {
        "colab": {
          "base_uri": "https://localhost:8080/"
        },
        "id": "_g2ku1_AS7YQ",
        "outputId": "a3f76535-6e67-4ae3-feac-984a58b96ec4"
      },
      "source": [
        "#öğrenci kayıt programı\n",
        "ad_soyad = input(\"Adını ve soyadını gir: \")\n",
        "liste = []\n",
        "liste.append(ad_soyad)\n",
        "print(\"Okulumuza hoş geldin:\", ad_soyad)\n",
        "print(liste)\n"
      ],
      "execution_count": 123,
      "outputs": [
        {
          "output_type": "stream",
          "text": [
            "Adını ve soyadını gir: Kerem ılgın\n",
            "Okulumuza hoş geldin: Kerem ılgın\n",
            "['Kerem ılgın']\n"
          ],
          "name": "stdout"
        }
      ]
    }
  ]
}