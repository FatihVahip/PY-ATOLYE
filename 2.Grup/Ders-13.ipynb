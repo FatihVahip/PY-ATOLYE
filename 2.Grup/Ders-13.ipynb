{
  "nbformat": 4,
  "nbformat_minor": 0,
  "metadata": {
    "colab": {
      "name": "Untitled0.ipynb",
      "provenance": [],
      "collapsed_sections": []
    },
    "kernelspec": {
      "name": "python3",
      "display_name": "Python 3"
    },
    "language_info": {
      "name": "python"
    }
  },
  "cells": [
    {
      "cell_type": "code",
      "metadata": {
        "id": "p5U6D8JQ0Owt"
      },
      "source": [
        ""
      ],
      "execution_count": null,
      "outputs": []
    },
    {
      "cell_type": "code",
      "metadata": {
        "colab": {
          "base_uri": "https://localhost:8080/"
        },
        "id": "fzLKOCXv0Sm7",
        "outputId": "4fecf31a-d496-4268-c4f0-6b30b2aa4e97"
      },
      "source": [
        "toplam = 0\n",
        "for i in range(1,11):\n",
        "  toplam +=i\n",
        "print(toplam)\n",
        "  \n",
        " "
      ],
      "execution_count": 7,
      "outputs": [
        {
          "output_type": "stream",
          "text": [
            "55\n"
          ],
          "name": "stdout"
        }
      ]
    },
    {
      "cell_type": "code",
      "metadata": {
        "colab": {
          "base_uri": "https://localhost:8080/"
        },
        "id": "ksSgK9aq1P84",
        "outputId": "20d3e8c0-4ada-41f8-bce7-d0aaadf04c53"
      },
      "source": [
        "i =0\n",
        "while i<10:\n",
        "  print(\"merhaba\", i)\n",
        "  i +=1"
      ],
      "execution_count": 8,
      "outputs": [
        {
          "output_type": "stream",
          "text": [
            "merhaba 0\n",
            "merhaba 1\n",
            "merhaba 2\n",
            "merhaba 3\n",
            "merhaba 4\n",
            "merhaba 5\n",
            "merhaba 6\n",
            "merhaba 7\n",
            "merhaba 8\n",
            "merhaba 9\n"
          ],
          "name": "stdout"
        }
      ]
    },
    {
      "cell_type": "code",
      "metadata": {
        "colab": {
          "base_uri": "https://localhost:8080/"
        },
        "id": "XkPEypKw1pDO",
        "outputId": "a3a5053a-c5d2-4559-836d-ed2670e939e2"
      },
      "source": [
        "#ekrana giriline sayının faktöriyelini hesaplayan program\n",
        "\n",
        "print(\"Sayıların faktöriyelini bulan program. çıkmak içi q ya basın\")\n",
        "while True:\n",
        "  sayi = input(\"Sayı:\")\n",
        "  if sayi ==\"q\" or sayi==\"Q\":\n",
        "    print(\"Program sonlandırıldı...\")\n",
        "    break\n",
        "  else:\n",
        "    sayi =int(sayi)\n",
        "    faktoriyel = 1\n",
        "    for i in range(1,sayi+1):\n",
        "      faktoriyel *=i\n",
        "      print(\"Girdiğiniz sayı:\", i, \"faktöriyeli:\", faktoriyel)\n",
        "\n",
        "\n"
      ],
      "execution_count": 21,
      "outputs": [
        {
          "output_type": "stream",
          "text": [
            "Sayıların faktöriyelini bulan program. çıkmak içi q ya basın\n",
            "Sayı:4\n",
            "Girdiğiniz sayı: 1 faktöriyeli: 1\n",
            "Girdiğiniz sayı: 2 faktöriyeli: 2\n",
            "Girdiğiniz sayı: 3 faktöriyeli: 6\n",
            "Girdiğiniz sayı: 4 faktöriyeli: 24\n",
            "Sayı:q\n",
            "Program sonlandırıldı...\n"
          ],
          "name": "stdout"
        }
      ]
    },
    {
      "cell_type": "code",
      "metadata": {
        "colab": {
          "base_uri": "https://localhost:8080/"
        },
        "id": "_3LZpo6u4-Z5",
        "outputId": "f8227780-06df-4220-e7c7-5ea440d71cbe"
      },
      "source": [
        "#fibonacci dizisi... 1,1,2,3,5,8,13,21,34.....\n",
        "\n",
        "a = 1\n",
        "b = 1\n",
        "fibonacci =[a,b]\n",
        "deger = int(input(\"kaç elemanlı bir fibonacci dizisi bulmak istiyorsun?\"))\n",
        "for i in range(deger):\n",
        "  a,b = b,a+b\n",
        "  fibonacci.append(b)\n",
        "print(\"fibonacci dizisinin ilk {} terimi:\".format(deger),fibonacci)\n",
        "toplam =0\n",
        "for i in fibonacci:\n",
        "  toplam +=i\n",
        "print(toplam)"
      ],
      "execution_count": 49,
      "outputs": [
        {
          "output_type": "stream",
          "text": [
            "kaç elemanlı bir fibonacci dizisi bulmak istiyorsun?4\n",
            "fibonacci dizisinin ilk 4 terimi: [1, 1, 2, 3, 5, 8]\n",
            "20\n"
          ],
          "name": "stdout"
        }
      ]
    },
    {
      "cell_type": "code",
      "metadata": {
        "id": "8AtsF3FC-CuB"
      },
      "source": [
        "#kullanıcıdan alınan bir sayının mükemme bir sayı olup olmadığını tespit eden program. (6 = 1+2+3)"
      ],
      "execution_count": null,
      "outputs": []
    },
    {
      "cell_type": "code",
      "metadata": {
        "colab": {
          "base_uri": "https://localhost:8080/"
        },
        "id": "Ac0oLnK6-t8A",
        "outputId": "0166b5c7-954f-43ec-aa2e-9da27f609c96"
      },
      "source": [
        "value = int(input(\"Sayi Giriniz:\"))\n",
        " \n",
        "top=0\n",
        " \n",
        "for i in range(1,value):\n",
        "    if(value%i == 0):\n",
        "        top +=i\n",
        "        \n",
        "if(value == top):\n",
        "    print(\"Mükemmel Sayidir.\")\n",
        "else:\n",
        "    print(\"Mükemmel Sayi Degildir\")"
      ],
      "execution_count": 52,
      "outputs": [
        {
          "output_type": "stream",
          "text": [
            "Sayi Giriniz:10\n",
            "Mükemmel Sayi Degildir\n"
          ],
          "name": "stdout"
        }
      ]
    },
    {
      "cell_type": "code",
      "metadata": {
        "colab": {
          "base_uri": "https://localhost:8080/"
        },
        "id": "E9zfJD8E_CCj",
        "outputId": "04c49607-902a-49fd-dd26-0e1907b19773"
      },
      "source": [
        "while True:\n",
        "    sayi= int(input(\"Sayınız:\"))\n",
        " \n",
        "    toplam=0\n",
        "    for i in range(1,sayi):\n",
        "     if (sayi%i == 0):\n",
        "         toplam +=i\n",
        "        \n",
        "    if(sayi == toplam):\n",
        "        print(\"Mükemmel Sayidir.\")\n",
        "    else:\n",
        "      print(\"Mükemmel Sayi Degildir\")\n",
        "    s = int(input(\"devam ise 1 değilse 2:\"))\n",
        "    if s==1:\n",
        "        continue\n",
        "    else: \n",
        "        break"
      ],
      "execution_count": 55,
      "outputs": [
        {
          "output_type": "stream",
          "text": [
            "Sayınız:8\n",
            "Mükemmel Sayi Degildir\n",
            "devam ise 1 değilse 2:2\n"
          ],
          "name": "stdout"
        }
      ]
    }
  ]
}