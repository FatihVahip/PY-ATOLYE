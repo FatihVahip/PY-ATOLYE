{
  "nbformat": 4,
  "nbformat_minor": 0,
  "metadata": {
    "colab": {
      "name": "Untitled2.ipynb",
      "provenance": []
    },
    "kernelspec": {
      "name": "python3",
      "display_name": "Python 3"
    },
    "language_info": {
      "name": "python"
    }
  },
  "cells": [
    {
      "cell_type": "code",
      "metadata": {
        "id": "aHGc8J-s55dh"
      },
      "source": [
        "#fonksiyonlar tekrar"
      ],
      "execution_count": null,
      "outputs": []
    },
    {
      "cell_type": "code",
      "metadata": {
        "id": "Z7tqFsMS593t"
      },
      "source": [
        "def toplama():\n",
        "  a = int(input(\"Birinci sayıyı gir: \"))\n",
        "  b = int(input(\"İkinci sayıyı gir: \"))\n",
        "  print(\"Girdiğin sayılar {}, {}. Toplamları: {} \".format(a,b,a+b))"
      ],
      "execution_count": 1,
      "outputs": []
    },
    {
      "cell_type": "code",
      "metadata": {
        "colab": {
          "base_uri": "https://localhost:8080/"
        },
        "id": "DEFA7cMu6R-d",
        "outputId": "2695b8b9-241c-4d4d-cd68-8653108d62f9"
      },
      "source": [
        "toplama()"
      ],
      "execution_count": 2,
      "outputs": [
        {
          "output_type": "stream",
          "text": [
            "Birinci sayıyı gir: 4\n",
            "İkinci sayıyı gir: 6\n",
            "Girdiğin sayılar 4, 6. Toplamları: 10 \n"
          ],
          "name": "stdout"
        }
      ]
    },
    {
      "cell_type": "code",
      "metadata": {
        "id": "5Z80-nEM6ZIW"
      },
      "source": [
        "def us_alma(a,b):\n",
        "  print(\"{} sayısının {} ci kuvveti: {} \".format(a,b,a**b))"
      ],
      "execution_count": 7,
      "outputs": []
    },
    {
      "cell_type": "code",
      "metadata": {
        "colab": {
          "base_uri": "https://localhost:8080/"
        },
        "id": "ieIU4hBX6pVv",
        "outputId": "f8821020-f4c4-4ed5-cb37-1f81675caa8d"
      },
      "source": [
        "us_alma(3,2)"
      ],
      "execution_count": 8,
      "outputs": [
        {
          "output_type": "stream",
          "text": [
            "3 sayısının 2 ci kuvveti: 9 \n"
          ],
          "name": "stdout"
        }
      ]
    },
    {
      "cell_type": "code",
      "metadata": {
        "colab": {
          "base_uri": "https://localhost:8080/"
        },
        "id": "8sIyVw-F6wC-",
        "outputId": "d999656a-4259-4cb1-b5b5-358df6241f3c"
      },
      "source": [
        "us_alma(20,45)"
      ],
      "execution_count": 9,
      "outputs": [
        {
          "output_type": "stream",
          "text": [
            "20 sayısının 45 ci kuvveti: 35184372088832000000000000000000000000000000000000000000000 \n"
          ],
          "name": "stdout"
        }
      ]
    },
    {
      "cell_type": "code",
      "metadata": {
        "id": "GGPjqmO266mG"
      },
      "source": [
        "#esnek parametre gönderme\n",
        "def toplama(*a):\n",
        "  toplam = 0\n",
        "  for eleman in a:\n",
        "    toplam += eleman\n",
        "  return toplam\n",
        " "
      ],
      "execution_count": 12,
      "outputs": []
    },
    {
      "cell_type": "code",
      "metadata": {
        "colab": {
          "base_uri": "https://localhost:8080/"
        },
        "id": "FwRHXr6B7c5x",
        "outputId": "e683cff3-7bda-4e2b-a11b-e56c25928cd3"
      },
      "source": [
        "toplama(3,4,5,6)"
      ],
      "execution_count": 13,
      "outputs": [
        {
          "output_type": "execute_result",
          "data": {
            "text/plain": [
              "18"
            ]
          },
          "metadata": {
            "tags": []
          },
          "execution_count": 13
        }
      ]
    },
    {
      "cell_type": "code",
      "metadata": {
        "colab": {
          "base_uri": "https://localhost:8080/"
        },
        "id": "9AYSYw1R7rFS",
        "outputId": "e24e87c2-9088-4bed-842f-cb9a89f348b3"
      },
      "source": [
        "toplama(1,2,3,4,5,6,7,8,9,10)"
      ],
      "execution_count": 15,
      "outputs": [
        {
          "output_type": "execute_result",
          "data": {
            "text/plain": [
              "55"
            ]
          },
          "metadata": {
            "tags": []
          },
          "execution_count": 15
        }
      ]
    },
    {
      "cell_type": "code",
      "metadata": {
        "colab": {
          "base_uri": "https://localhost:8080/"
        },
        "id": "UwskgGT37x6x",
        "outputId": "a3547c5a-1171-4a18-f313-471424a61e68"
      },
      "source": [
        "toplama(678,56,777,888,666,6666)"
      ],
      "execution_count": 16,
      "outputs": [
        {
          "output_type": "execute_result",
          "data": {
            "text/plain": [
              "9731"
            ]
          },
          "metadata": {
            "tags": []
          },
          "execution_count": 16
        }
      ]
    },
    {
      "cell_type": "code",
      "metadata": {
        "colab": {
          "base_uri": "https://localhost:8080/"
        },
        "id": "_N6KNzgb79SQ",
        "outputId": "d440b0a3-17b8-4458-d118-d30ee6bc7258"
      },
      "source": [
        "print(*range(0,10))"
      ],
      "execution_count": 18,
      "outputs": [
        {
          "output_type": "stream",
          "text": [
            "0 1 2 3 4 5 6 7 8 9\n"
          ],
          "name": "stdout"
        }
      ]
    },
    {
      "cell_type": "code",
      "metadata": {
        "id": "NN0GqiU48ku9"
      },
      "source": [
        "#global değişken tanımlama..."
      ],
      "execution_count": null,
      "outputs": []
    },
    {
      "cell_type": "code",
      "metadata": {
        "id": "pqa4R4G38oYv"
      },
      "source": [
        "def fonksiyon(a):\n",
        "  a=10*a\n",
        "  print(a)"
      ],
      "execution_count": 21,
      "outputs": []
    },
    {
      "cell_type": "code",
      "metadata": {
        "colab": {
          "base_uri": "https://localhost:8080/"
        },
        "id": "cC4qGD0h8xny",
        "outputId": "1e4bec52-8a06-4ec5-dae2-55b2aa83caf6"
      },
      "source": [
        "fonksiyon(8)"
      ],
      "execution_count": 22,
      "outputs": [
        {
          "output_type": "stream",
          "text": [
            "80\n"
          ],
          "name": "stdout"
        }
      ]
    },
    {
      "cell_type": "code",
      "metadata": {
        "colab": {
          "base_uri": "https://localhost:8080/",
          "height": 164
        },
        "id": "psYR8rtu82ol",
        "outputId": "eab69a75-7601-4e51-dffe-fd4c7b6c7e0e"
      },
      "source": [
        "a"
      ],
      "execution_count": 23,
      "outputs": [
        {
          "output_type": "error",
          "ename": "NameError",
          "evalue": "ignored",
          "traceback": [
            "\u001b[0;31m---------------------------------------------------------------------------\u001b[0m",
            "\u001b[0;31mNameError\u001b[0m                                 Traceback (most recent call last)",
            "\u001b[0;32m<ipython-input-23-3f786850e387>\u001b[0m in \u001b[0;36m<module>\u001b[0;34m()\u001b[0m\n\u001b[0;32m----> 1\u001b[0;31m \u001b[0ma\u001b[0m\u001b[0;34m\u001b[0m\u001b[0;34m\u001b[0m\u001b[0m\n\u001b[0m",
            "\u001b[0;31mNameError\u001b[0m: name 'a' is not defined"
          ]
        }
      ]
    },
    {
      "cell_type": "code",
      "metadata": {
        "id": "JZZPVDxd87gs"
      },
      "source": [
        "a=20\n",
        "def fonksiyon2(a):\n",
        "  a=10*a\n",
        "  print(a)"
      ],
      "execution_count": 25,
      "outputs": []
    },
    {
      "cell_type": "code",
      "metadata": {
        "colab": {
          "base_uri": "https://localhost:8080/"
        },
        "id": "R-3QPAc89CAD",
        "outputId": "1193637c-d496-4204-bd49-ed9b19cf4d01"
      },
      "source": [
        "fonksiyon2(a)"
      ],
      "execution_count": 26,
      "outputs": [
        {
          "output_type": "stream",
          "text": [
            "200\n"
          ],
          "name": "stdout"
        }
      ]
    },
    {
      "cell_type": "code",
      "metadata": {
        "colab": {
          "base_uri": "https://localhost:8080/"
        },
        "id": "ED4ivlpy9H9u",
        "outputId": "e7b94757-6059-4a0b-adc7-6c7e5a191047"
      },
      "source": [
        "a"
      ],
      "execution_count": 27,
      "outputs": [
        {
          "output_type": "execute_result",
          "data": {
            "text/plain": [
              "20"
            ]
          },
          "metadata": {
            "tags": []
          },
          "execution_count": 27
        }
      ]
    },
    {
      "cell_type": "code",
      "metadata": {
        "id": "9pc30Cir9Zl6"
      },
      "source": [
        "#Örnekler"
      ],
      "execution_count": null,
      "outputs": []
    },
    {
      "cell_type": "code",
      "metadata": {
        "colab": {
          "base_uri": "https://localhost:8080/"
        },
        "id": "uIpulma79bf5",
        "outputId": "6e514a6f-97c8-44eb-e9df-49a0d52a91f4"
      },
      "source": [
        "#karenin alanını hesaplayan fonksiyon\n",
        "def alan():\n",
        "  kenar = int(input(\"Karenin kenarını gir: \"))\n",
        "  return kenar*kenar\n",
        "print(\"Karenin alanı: \", alan())"
      ],
      "execution_count": 33,
      "outputs": [
        {
          "output_type": "stream",
          "text": [
            "Karenin kenarını gir: 78\n",
            "Karenin alanı:  6084\n"
          ],
          "name": "stdout"
        }
      ]
    },
    {
      "cell_type": "code",
      "metadata": {
        "colab": {
          "base_uri": "https://localhost:8080/"
        },
        "id": "E1oeybeV9-mF",
        "outputId": "db51f4e6-9408-4ec8-f1f1-41dca71261f0"
      },
      "source": [
        "alan()"
      ],
      "execution_count": 34,
      "outputs": [
        {
          "output_type": "stream",
          "text": [
            "Karenin kenarını gir: 789\n"
          ],
          "name": "stdout"
        },
        {
          "output_type": "execute_result",
          "data": {
            "text/plain": [
              "622521"
            ]
          },
          "metadata": {
            "tags": []
          },
          "execution_count": 34
        }
      ]
    },
    {
      "cell_type": "code",
      "metadata": {
        "id": "gYhqmw92-LND"
      },
      "source": [
        "#geriye doğru sayan bir fornksiyon\n",
        "def geri_sayma(son_sayi):\n",
        "  while son_sayi >=0:\n",
        "    print(son_sayi, \"\")\n",
        "    son_sayi = son_sayi-1\n"
      ],
      "execution_count": 38,
      "outputs": []
    },
    {
      "cell_type": "code",
      "metadata": {
        "colab": {
          "base_uri": "https://localhost:8080/"
        },
        "id": "XIcRSW7N-vnr",
        "outputId": "68387bfa-8242-4ebf-d0d4-799e41749e5b"
      },
      "source": [
        "geri_sayma(5)"
      ],
      "execution_count": 39,
      "outputs": [
        {
          "output_type": "stream",
          "text": [
            "5 \n",
            "4 \n",
            "3 \n",
            "2 \n",
            "1 \n",
            "0 \n"
          ],
          "name": "stdout"
        }
      ]
    },
    {
      "cell_type": "code",
      "metadata": {
        "colab": {
          "base_uri": "https://localhost:8080/"
        },
        "id": "VtYFP5BQ-4oB",
        "outputId": "4997ac44-6609-4036-c6c7-758409974856"
      },
      "source": [
        "geri_sayma(10)"
      ],
      "execution_count": 40,
      "outputs": [
        {
          "output_type": "stream",
          "text": [
            "10 \n",
            "9 \n",
            "8 \n",
            "7 \n",
            "6 \n",
            "5 \n",
            "4 \n",
            "3 \n",
            "2 \n",
            "1 \n",
            "0 \n"
          ],
          "name": "stdout"
        }
      ]
    },
    {
      "cell_type": "code",
      "metadata": {
        "id": "_GcQFgM--9hB"
      },
      "source": [
        "#geriye doğru sayan bir fornksiyon\n",
        "def geri_sayma2():\n",
        "  son_sayi = int(input(\"Geri saymayı başlatmak için sayıyı gir:\"))\n",
        "  while son_sayi >=0:\n",
        "    print(son_sayi, \"\")\n",
        "    son_sayi = son_sayi-1"
      ],
      "execution_count": 41,
      "outputs": []
    },
    {
      "cell_type": "code",
      "metadata": {
        "colab": {
          "base_uri": "https://localhost:8080/"
        },
        "id": "zE0QhmMs_I2S",
        "outputId": "0691cb62-77d4-4abb-94c1-f1a2c30d37a4"
      },
      "source": [
        "geri_sayma2()"
      ],
      "execution_count": 42,
      "outputs": [
        {
          "output_type": "stream",
          "text": [
            "Geri saymayı başlatmak için sayıyı gir:7\n",
            "7 \n",
            "6 \n",
            "5 \n",
            "4 \n",
            "3 \n",
            "2 \n",
            "1 \n",
            "0 \n"
          ],
          "name": "stdout"
        }
      ]
    },
    {
      "cell_type": "code",
      "metadata": {
        "colab": {
          "base_uri": "https://localhost:8080/"
        },
        "id": "i6yNyVDwAMIg",
        "outputId": "bca3d5b7-78dc-4890-e5f7-ee8b7f8882db"
      },
      "source": [
        "#Asal sayıları anlayan program\n",
        "\n",
        "print(\"\"\"*********************************\n",
        "Asal sayı tespiti yapan program(çıkmak için q,Q ya basabilirsin)\n",
        "**********************************\"\"\")\n",
        "def asal_sayi(sayi):\n",
        "  if sayi ==1:\n",
        "    return False\n",
        "  elif sayi ==2:\n",
        "    return True\n",
        "  else:\n",
        "    for eleman in range(2,sayi):\n",
        "      if  sayi % eleman ==0:\n",
        "        return False\n",
        "    return True\n",
        "\n",
        "while True:\n",
        "  sayi = input(\"Sayıyı gir: \")\n",
        "  if sayi ==\"q\" or sayi==\"Q\":\n",
        "    break\n",
        "  else:\n",
        "    sayi = int(sayi)\n",
        "    if (asal_sayi(sayi)):\n",
        "      print(sayi, \"Sayısı bir asal sayıdır\")\n",
        "    else:\n",
        "      print(sayi, \"Sayısı asal değildir\")\n",
        "    \n"
      ],
      "execution_count": 52,
      "outputs": [
        {
          "output_type": "stream",
          "text": [
            "*********************************\n",
            "Asal sayı tespiti yapan program(çıkmak için q,Q ya basabilirsin)\n",
            "**********************************\n",
            "Sayıyı gir: q\n"
          ],
          "name": "stdout"
        }
      ]
    },
    {
      "cell_type": "code",
      "metadata": {
        "colab": {
          "base_uri": "https://localhost:8080/"
        },
        "id": "EOuNfiO8EI6S",
        "outputId": "f622de37-27b4-431d-bbc6-f2f551888ed3"
      },
      "source": [
        "22/7"
      ],
      "execution_count": 53,
      "outputs": [
        {
          "output_type": "execute_result",
          "data": {
            "text/plain": [
              "3.142857142857143"
            ]
          },
          "metadata": {
            "tags": []
          },
          "execution_count": 53
        }
      ]
    },
    {
      "cell_type": "code",
      "metadata": {
        "colab": {
          "base_uri": "https://localhost:8080/"
        },
        "id": "tmLy_g3BEYaT",
        "outputId": "cd7ccfb2-1b01-4435-bb3f-bcae628bb922"
      },
      "source": [
        "333/106"
      ],
      "execution_count": 56,
      "outputs": [
        {
          "output_type": "execute_result",
          "data": {
            "text/plain": [
              "3.141509433962264"
            ]
          },
          "metadata": {
            "tags": []
          },
          "execution_count": 56
        }
      ]
    },
    {
      "cell_type": "code",
      "metadata": {
        "colab": {
          "base_uri": "https://localhost:8080/"
        },
        "id": "twgIHsnpE00Z",
        "outputId": "ee29a107-3505-4b43-de50-fe2214979427"
      },
      "source": [
        "355/113"
      ],
      "execution_count": 57,
      "outputs": [
        {
          "output_type": "execute_result",
          "data": {
            "text/plain": [
              "3.1415929203539825"
            ]
          },
          "metadata": {
            "tags": []
          },
          "execution_count": 57
        }
      ]
    },
    {
      "cell_type": "code",
      "metadata": {
        "id": "wPQaU1gNFg5o"
      },
      "source": [
        "#Ödev...(girilen sayıya kadar asal sayıları tespit eden python programı)"
      ],
      "execution_count": null,
      "outputs": []
    },
    {
      "cell_type": "code",
      "metadata": {
        "id": "b5fx5-bzGnds"
      },
      "source": [
        "def arccot(x, u):\n",
        "    sum = ussu = u // x\n",
        "    n = 3\n",
        "    sign = -1\n",
        "    while 1:\n",
        "        ussu = ussu // (x*x)\n",
        "        term = ussu // n\n",
        "        if not term:\n",
        "            break\n",
        "        sum += sign * term\n",
        "        sign = -sign\n",
        "        n += 2\n",
        "    return sum\n",
        "\n",
        "def pi(basamak):\n",
        "    u = 10**(basamak+10)\n",
        "    pi = 4 * (4*arccot(5,u) - arccot(239,u))\n",
        "    return pi // 10**10\n",
        "\n",
        "if __name__ == \"__main__\":\n",
        "    print pi(1000) # 1000 basamaklı bi sayısı"
      ],
      "execution_count": null,
      "outputs": []
    }
  ]
}