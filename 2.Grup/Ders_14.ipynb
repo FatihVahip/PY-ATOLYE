{
  "nbformat": 4,
  "nbformat_minor": 0,
  "metadata": {
    "colab": {
      "name": "Ders-14.ipynb",
      "provenance": []
    },
    "kernelspec": {
      "name": "python3",
      "display_name": "Python 3"
    },
    "language_info": {
      "name": "python"
    }
  },
  "cells": [
    {
      "cell_type": "code",
      "metadata": {
        "id": "k5JWdHzT1jdE"
      },
      "source": [
        "#Fonksiyonlar---->yaptığımız yazılımlarda çok yerde kullanacağımız kod bloklarını bir seferde yazarsak, çok daha mantıklı bir iş yapmış oluruz...."
      ],
      "execution_count": null,
      "outputs": []
    },
    {
      "cell_type": "code",
      "metadata": {
        "id": "sz-Nsmhl3TGd"
      },
      "source": [
        "#Metod..."
      ],
      "execution_count": null,
      "outputs": []
    },
    {
      "cell_type": "code",
      "metadata": {
        "id": "Nzi4BlFD3Un9"
      },
      "source": [
        "liste = [1,2,3,4,5,\"Miraz\"]\n",
        "liste.append(\"kedi\")"
      ],
      "execution_count": 49,
      "outputs": []
    },
    {
      "cell_type": "code",
      "metadata": {
        "colab": {
          "base_uri": "https://localhost:8080/"
        },
        "id": "2FUEC2Ka3fOc",
        "outputId": "3908a28c-b125-4362-db38-368d135faf77"
      },
      "source": [
        "liste"
      ],
      "execution_count": 50,
      "outputs": [
        {
          "output_type": "execute_result",
          "data": {
            "text/plain": [
              "[1, 2, 3, 4, 5, 'Miraz', 'kedi']"
            ]
          },
          "metadata": {
            "tags": []
          },
          "execution_count": 50
        }
      ]
    },
    {
      "cell_type": "code",
      "metadata": {
        "id": "fsuxyi5r3lQn"
      },
      "source": [
        "#Metodlar bazı veri tiplerinde daha hızlı işlemler yapmamızı sağlayan bloklardır"
      ],
      "execution_count": null,
      "outputs": []
    },
    {
      "cell_type": "code",
      "metadata": {
        "id": "bOc_z6AZ32iQ"
      },
      "source": [
        "def selam():\n",
        "  print(\"Sayfaya hoşgeldin gezgin:)\")"
      ],
      "execution_count": 51,
      "outputs": []
    },
    {
      "cell_type": "code",
      "metadata": {
        "colab": {
          "base_uri": "https://localhost:8080/"
        },
        "id": "a_IgWCA-4KiQ",
        "outputId": "9c8c7132-63b2-4412-d5a2-24fb77a2de15"
      },
      "source": [
        "selam()"
      ],
      "execution_count": 52,
      "outputs": [
        {
          "output_type": "stream",
          "text": [
            "Sayfaya hoşgeldin gezgin:)\n"
          ],
          "name": "stdout"
        }
      ]
    },
    {
      "cell_type": "code",
      "metadata": {
        "colab": {
          "base_uri": "https://localhost:8080/"
        },
        "id": "o5VMKuah4UJV",
        "outputId": "61a8aa59-15a7-44b0-c7be-2fa77a5dc888"
      },
      "source": [
        "selam()"
      ],
      "execution_count": 53,
      "outputs": [
        {
          "output_type": "stream",
          "text": [
            "Sayfaya hoşgeldin gezgin:)\n"
          ],
          "name": "stdout"
        }
      ]
    },
    {
      "cell_type": "code",
      "metadata": {
        "id": "ABTiGbHv4Xrm"
      },
      "source": [
        "#parametre göndermek"
      ],
      "execution_count": null,
      "outputs": []
    },
    {
      "cell_type": "code",
      "metadata": {
        "id": "p-tB7MrI4aRW"
      },
      "source": [
        "def selam2(isim): \n",
        "  print(\"Merhaba\", isim)"
      ],
      "execution_count": 56,
      "outputs": []
    },
    {
      "cell_type": "code",
      "metadata": {
        "colab": {
          "base_uri": "https://localhost:8080/"
        },
        "id": "6TM7k34p4jN-",
        "outputId": "0cb9272c-c99a-4491-b6fa-d6f777289b5d"
      },
      "source": [
        "selam2(\"Arda\")"
      ],
      "execution_count": 57,
      "outputs": [
        {
          "output_type": "stream",
          "text": [
            "Merhaba Arda\n"
          ],
          "name": "stdout"
        }
      ]
    },
    {
      "cell_type": "code",
      "metadata": {
        "colab": {
          "base_uri": "https://localhost:8080/"
        },
        "id": "ZkB-0qzy4qe7",
        "outputId": "3a1b5bd9-14a2-4b5a-d5df-4771f6aaed86"
      },
      "source": [
        "selam2(\"Ayşe\")"
      ],
      "execution_count": 58,
      "outputs": [
        {
          "output_type": "stream",
          "text": [
            "Merhaba Ayşe\n"
          ],
          "name": "stdout"
        }
      ]
    },
    {
      "cell_type": "code",
      "metadata": {
        "colab": {
          "base_uri": "https://localhost:8080/"
        },
        "id": "GjNdjcv04w3p",
        "outputId": "bb4422b7-16ec-4e6c-8f61-e7c8e10a9ceb"
      },
      "source": [
        "selam()"
      ],
      "execution_count": 59,
      "outputs": [
        {
          "output_type": "stream",
          "text": [
            "Sayfaya hoşgeldin gezgin:)\n"
          ],
          "name": "stdout"
        }
      ]
    },
    {
      "cell_type": "code",
      "metadata": {
        "id": "IirYah6s41Hv"
      },
      "source": [
        "def toplama(a,b,c):\n",
        "  print(\"Toplamları:\", a+b+c)\n"
      ],
      "execution_count": 60,
      "outputs": []
    },
    {
      "cell_type": "code",
      "metadata": {
        "colab": {
          "base_uri": "https://localhost:8080/"
        },
        "id": "QBAt1-Hm49w1",
        "outputId": "237374e6-1441-45ab-9c08-627e54d01021"
      },
      "source": [
        "toplama(4,5,6)"
      ],
      "execution_count": 61,
      "outputs": [
        {
          "output_type": "stream",
          "text": [
            "Toplamları: 15\n"
          ],
          "name": "stdout"
        }
      ]
    },
    {
      "cell_type": "code",
      "metadata": {
        "colab": {
          "base_uri": "https://localhost:8080/"
        },
        "id": "PuppG39i5DwV",
        "outputId": "1bfe6ad1-16b5-43fa-8c7d-9893addd2423"
      },
      "source": [
        "def toplama():\n",
        "  a = int(input(\"Birinci sayıyı gir:\"))\n",
        "  b = int(input(\"İkinci sayıyı gir: \"))\n",
        "  print(\"Toplamları:\", a+b)\n",
        "toplama() \n"
      ],
      "execution_count": 65,
      "outputs": [
        {
          "output_type": "stream",
          "text": [
            "Birinci sayıyı gir:5\n",
            "İkinci sayıyı gir: 6\n",
            "Toplamları: 11\n"
          ],
          "name": "stdout"
        }
      ]
    },
    {
      "cell_type": "code",
      "metadata": {
        "colab": {
          "base_uri": "https://localhost:8080/"
        },
        "id": "9fVLxhOr5Tfx",
        "outputId": "962fb1f0-5459-458f-90a6-75e683223bf0"
      },
      "source": [
        "toplama()"
      ],
      "execution_count": 66,
      "outputs": [
        {
          "output_type": "stream",
          "text": [
            "Birinci sayıyı gir:7\n",
            "İkinci sayıyı gir: 8\n",
            "Toplamları: 15\n"
          ],
          "name": "stdout"
        }
      ]
    },
    {
      "cell_type": "code",
      "metadata": {
        "id": "yoCIkC_F50X8"
      },
      "source": [
        "#kayıt sistemi\n",
        "ogrenciler = []\n",
        "def kayit():\n",
        "  ad = input(\"Adın ne? :\")\n",
        "  ogrenciler.append(ad)\n",
        "  print(ogrenciler)\n",
        "  print(\"Kayıt sıran: \", len(ogrenciler))"
      ],
      "execution_count": 111,
      "outputs": []
    },
    {
      "cell_type": "code",
      "metadata": {
        "colab": {
          "base_uri": "https://localhost:8080/"
        },
        "id": "XTLD8lR28cOg",
        "outputId": "c0107c2c-3425-4bae-fa2f-5788abb522bc"
      },
      "source": [
        "kayit()"
      ],
      "execution_count": 112,
      "outputs": [
        {
          "output_type": "stream",
          "text": [
            "Adın ne? :Dilara\n",
            "['Dilara']\n",
            "Kayıt sıran:  1\n"
          ],
          "name": "stdout"
        }
      ]
    },
    {
      "cell_type": "code",
      "metadata": {
        "colab": {
          "base_uri": "https://localhost:8080/"
        },
        "id": "rBGsMjxB8hyg",
        "outputId": "e97d4222-6c46-49ed-c7ae-fe63e613e06e"
      },
      "source": [
        "kayit()"
      ],
      "execution_count": 113,
      "outputs": [
        {
          "output_type": "stream",
          "text": [
            "Adın ne? :Murat\n",
            "['Dilara', 'Murat']\n",
            "Kayıt sıran:  2\n"
          ],
          "name": "stdout"
        }
      ]
    },
    {
      "cell_type": "code",
      "metadata": {
        "id": "dCU0o7dj8_v4"
      },
      "source": [
        "#type(), dir(), help()"
      ],
      "execution_count": null,
      "outputs": []
    },
    {
      "cell_type": "code",
      "metadata": {
        "colab": {
          "base_uri": "https://localhost:8080/"
        },
        "id": "5Uuruz589EnZ",
        "outputId": "2ff31060-814f-45a2-e62e-912179f67bc0"
      },
      "source": [
        "liste = [1,2,3,4,5]\n",
        "#help(liste.append)\n",
        "dir(liste)"
      ],
      "execution_count": 119,
      "outputs": [
        {
          "output_type": "execute_result",
          "data": {
            "text/plain": [
              "['__add__',\n",
              " '__class__',\n",
              " '__contains__',\n",
              " '__delattr__',\n",
              " '__delitem__',\n",
              " '__dir__',\n",
              " '__doc__',\n",
              " '__eq__',\n",
              " '__format__',\n",
              " '__ge__',\n",
              " '__getattribute__',\n",
              " '__getitem__',\n",
              " '__gt__',\n",
              " '__hash__',\n",
              " '__iadd__',\n",
              " '__imul__',\n",
              " '__init__',\n",
              " '__init_subclass__',\n",
              " '__iter__',\n",
              " '__le__',\n",
              " '__len__',\n",
              " '__lt__',\n",
              " '__mul__',\n",
              " '__ne__',\n",
              " '__new__',\n",
              " '__reduce__',\n",
              " '__reduce_ex__',\n",
              " '__repr__',\n",
              " '__reversed__',\n",
              " '__rmul__',\n",
              " '__setattr__',\n",
              " '__setitem__',\n",
              " '__sizeof__',\n",
              " '__str__',\n",
              " '__subclasshook__',\n",
              " 'append',\n",
              " 'clear',\n",
              " 'copy',\n",
              " 'count',\n",
              " 'extend',\n",
              " 'index',\n",
              " 'insert',\n",
              " 'pop',\n",
              " 'remove',\n",
              " 'reverse',\n",
              " 'sort']"
            ]
          },
          "metadata": {
            "tags": []
          },
          "execution_count": 119
        }
      ]
    },
    {
      "cell_type": "code",
      "metadata": {
        "id": "96Xo24Az-BJR"
      },
      "source": [
        "#fonksiyonlarda return"
      ],
      "execution_count": null,
      "outputs": []
    },
    {
      "cell_type": "code",
      "metadata": {
        "id": "M-nJ-XOD-QRl"
      },
      "source": [
        "def toplama(a):\n",
        "  print(\"Toplama işlemi aktif\")\n",
        "  return a+5"
      ],
      "execution_count": 135,
      "outputs": []
    },
    {
      "cell_type": "code",
      "metadata": {
        "id": "nxbXCxlK_TMa"
      },
      "source": [
        "def carpma(b):\n",
        "  print(\"Çarpma fonksiyonu aktif\")\n",
        "  return b*10"
      ],
      "execution_count": 136,
      "outputs": []
    },
    {
      "cell_type": "code",
      "metadata": {
        "id": "37V-ZZB7AM6C"
      },
      "source": [
        "def bolme(c):\n",
        "  print(\"Bölme fonksiyonu aktif\")\n",
        "  return c/2\n"
      ],
      "execution_count": 138,
      "outputs": []
    },
    {
      "cell_type": "code",
      "metadata": {
        "id": "m5B3tS4IBjuM",
        "outputId": "36e77445-691a-4e9c-a307-77d2b13aaa7a",
        "colab": {
          "base_uri": "https://localhost:8080/"
        }
      },
      "source": [
        "def anahtar():\n",
        "  d = int(input(\"Değeri gir:\"))\n",
        "  print(bolme(carpma(toplama(d))))\n",
        "\n",
        "anahtar()"
      ],
      "execution_count": 144,
      "outputs": [
        {
          "output_type": "stream",
          "text": [
            "Değeri gir:30\n",
            "Toplama işlemi aktif\n",
            "Çarpma fonksiyonu aktif\n",
            "Bölme fonksiyonu aktif\n",
            "175.0\n"
          ],
          "name": "stdout"
        }
      ]
    }
  ]
}